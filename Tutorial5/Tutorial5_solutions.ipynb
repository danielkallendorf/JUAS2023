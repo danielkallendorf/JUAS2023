{
 "cells": [
  {
   "cell_type": "markdown",
   "id": "a7f43312-2216-48c2-9721-0eba963e6272",
   "metadata": {},
   "source": [
    "# Tutorial 5: Chromaticity correction and non-linearities."
   ]
  },
  {
   "cell_type": "markdown",
   "id": "6e81d196-3e53-4f71-be92-f83341b61c9d",
   "metadata": {
    "tags": []
   },
   "source": [
    "# Objectives\n",
    "#### - Introduce sextupoles in the FODO cell for chromaticity correction.\n",
    "\n",
    "<div>\n",
    "<img src=\"../Figures/Tutorial5_chroma_correction.jpg\" width=\"500\"/>\n",
    "</div>\n",
    "\n",
    "#### - Non-linearities impact on the beam dynamics."
   ]
  },
  {
   "cell_type": "markdown",
   "id": "5afc01ce-3abd-4463-942c-92751265d42d",
   "metadata": {},
   "source": [
    "# Questions\n",
    "#### 1. Add 0.5 m long sextupole attached to the two qudrupoles of the lattice defined on Tutorial 3. With a matching block adjust the vertical and horizontal chromaticity of the cell (global parameters: DQ1 and DQ2) to zero, by powering the two sextupoles ($K2_1$ and $K2_1$).\n",
    "\n",
    "<div>\n",
    "<img src=\"../Figures/Tutorial5_FODO.png\" width=\"500\"/>\n",
    "</div>\n",
    "\n",
    "#### 2. Using the 𝐾21 and 𝐾21, 𝛽-function and dispersion at the sextupole location, evaluate using the formula the sextupolar effect on the Q1 for a particle at DELTAP=0.01. Compare with the results obtained in the Tutorial 4.\n",
    "#### 3. Track a particle with initial coordinates x,y,px,py = (1,1,0,0) mm in 100 cells and DELTAP=0.01. Plot the x-px phase space. Did you manage to recover the original tune for the off-momentum particle?\n",
    "#### Q4. Track a particle with initial coordinates x,y,px,py=(100,100,0,0). How does the particle move in the phase space, cell after cell? Do you see the tunes? What is going on?\n",
    "#### **BONUS**\n",
    "#### 5. Move the tunes to (0.23, 0.23) and repeat the previous point. Is now the particle stable?"
   ]
  },
  {
   "cell_type": "markdown",
   "id": "a6fe76b2-8fd1-480e-b86f-0763a5c70b48",
   "metadata": {},
   "source": [
    "# Python libraries "
   ]
  },
  {
   "cell_type": "code",
   "execution_count": 1,
   "id": "79ef418c-f0ee-492e-85a4-2ee8d3ac79f5",
   "metadata": {},
   "outputs": [],
   "source": [
    "#########################################\n",
    "# Python libraries                      #\n",
    "#########################################\n",
    "from matplotlib import pyplot as plt\n",
    "import numpy as np\n",
    "import pandas as pd\n",
    "\n",
    "#########################################\n",
    "# Cpymad library                        #\n",
    "#########################################\n",
    "from cpymad.madx import Madx "
   ]
  },
  {
   "cell_type": "markdown",
   "id": "2caa5cc0-c102-453e-9588-c532c8933457",
   "metadata": {},
   "source": [
    "# Python plot commands"
   ]
  },
  {
   "cell_type": "markdown",
   "id": "bd3952df-b263-42f2-aa63-36396707ff60",
   "metadata": {},
   "source": [
    "#### You can copy/paste, uncomment and apply the example below for plotting:"
   ]
  },
  {
   "cell_type": "code",
   "execution_count": 2,
   "id": "edaf63cf-6949-4bf6-b994-26b105cd43ca",
   "metadata": {},
   "outputs": [],
   "source": [
    "###########################\n",
    "#### Plot example code ####\n",
    "###########################\n",
    "\n",
    "#### To change the size of the plot window\n",
    "# plt.rcParams['figure.dpi'] = 100\n",
    "\n",
    "#### Plot command\n",
    "# plt.plot(x,y,'ob',label='Example')\n",
    "\n",
    "#### Adding labels\n",
    "# plt.xlabel('s[m]')\n",
    "# plt.ylabel('[m]')\n",
    "\n",
    "#### Adding a legend\n",
    "# plt.legend(loc='best')"
   ]
  },
  {
   "cell_type": "markdown",
   "id": "00571c81-0d3d-4576-a921-d0f11f87bb53",
   "metadata": {},
   "source": [
    "# Launching MAD-X"
   ]
  },
  {
   "cell_type": "code",
   "execution_count": 3,
   "id": "c97f9790-20e6-45f6-a786-6cb7ce1e5194",
   "metadata": {},
   "outputs": [
    {
     "name": "stdout",
     "output_type": "stream",
     "text": [
      "\n",
      "  ++++++++++++++++++++++++++++++++++++++++++++\n",
      "  +     MAD-X 5.07.00  (64 bit, Darwin)      +\n",
      "  + Support: mad@cern.ch, http://cern.ch/mad +\n",
      "  + Release   date: 2021.05.03               +\n",
      "  + Execution date: 2022.12.06 17:11:22      +\n",
      "  ++++++++++++++++++++++++++++++++++++++++++++\n"
     ]
    }
   ],
   "source": [
    "# madx = Madx(stdout=True)\n",
    "madx = Madx()"
   ]
  },
  {
   "cell_type": "markdown",
   "id": "7a16270d-3bd0-4666-b260-c5b1563e143e",
   "metadata": {},
   "source": [
    "# Methods in the Madx class from cpymad library to be used:"
   ]
  },
  {
   "cell_type": "markdown",
   "id": "0f9571ee-773f-4f11-b7c9-545b7ab0d9df",
   "metadata": {},
   "source": [
    "#### To run the MAD-X lattice input file:\n",
    "\n",
    "`madx.call('name_of_the_file.madx')`\n",
    "\n",
    "#### To save the MAD-X output data from the TWISS and SUMM tables into a pandas dataframe: \n",
    "\n",
    "`madx.table.twiss.dframe()`\n",
    "\n",
    "`madx.table.summ.dframe()`\n",
    "\n",
    "#### To run a MAD-X command from the Jupyter-notebook: \n",
    "\n",
    "`madx.input(\"MAD-X command\")`"
   ]
  },
  {
   "cell_type": "markdown",
   "id": "5f61b646-8356-490c-acfc-9170ff6d5fa6",
   "metadata": {},
   "source": [
    "# Solutions"
   ]
  },
  {
   "cell_type": "markdown",
   "id": "7a54783c-b705-479b-9ac1-8d7387fdbe21",
   "metadata": {},
   "source": [
    "#### 1. Add 0.5 m long sextupole attached to the two qudrupoles of the lattice defined on Tutorial 3. With a matching block adjust the vertical and horizontal chromaticity of the cell (global parameters: DQ1 and DQ2) to zero, by powering the two sextupoles ($K2_1$ and $K2_1$). \n",
    "    \n",
    "<div>\n",
    "<img src=\"../Figures/Tutorial5_FODO.png\" width=\"500\"/>\n",
    "</div>\n",
    "\n",
    "        !In the magnet definition section:\n",
    "        SF: SEXTUPOLE, L:=??, K2:=??;\n",
    "        SD: SEXTUPOLE, L:=??, K2:=??;\n",
    "        \n",
    "        !In the sequence:\n",
    "        S2 : SD, at=??;\n",
    "        "
   ]
  },
  {
   "cell_type": "code",
   "execution_count": 4,
   "id": "ae8984c6-1fe3-4f77-9409-154e430e237f",
   "metadata": {},
   "outputs": [
    {
     "name": "stdout",
     "output_type": "stream",
     "text": [
      "! *********************************************************************\n",
      "\n",
      "! Definition of parameters\n",
      "\n",
      "! *********************************************************************\n",
      "\n",
      "!! General parameters\n",
      "\n",
      "Lcell = 100;\n",
      "\n",
      "nBend=736;\n",
      "\n",
      "\n",
      "\n",
      "!! Dipole Parameters\n",
      "\n",
      "Ld = 15;\n",
      "\n",
      "Ad = 2*pi/nBend;\n",
      "\n",
      "\n",
      "\n",
      "!! Quadrupole Parameters\n",
      "\n",
      "K1F = 5e-3;\n",
      "\n",
      "K1D = -K1F;\n",
      "\n",
      "Lq =5;\n",
      "\n",
      "\n",
      "\n",
      "!! Sextupole Parameters\n",
      "\n",
      "K2F = 0.0;\n",
      "\n",
      "K2D = -K2F;\n",
      "\n",
      "Ls = 0.5;\n",
      "\n",
      "\n",
      "\n",
      "! *********************************************************************\n",
      "\n",
      "! Definition of magnets\n",
      "\n",
      "! ********************************************************************* \n",
      "\n",
      "\n",
      "\n",
      "QF: QUADRUPOLE, L=Lq, K1:=K1F;\n",
      "\n",
      "QD: QUADRUPOLE, L=Lq, K1:=K1D;\n",
      "\n",
      "BM: SBEND, L=Ld, angle:=Ad;\n",
      "\n",
      "SF: SEXTUPOLE, L=Ls, K2:=K2F;\n",
      "\n",
      "SD: SEXTUPOLE, L=Ls, K2:=K2D;\n",
      "\n",
      "\n",
      "\n",
      "! *********************************************************************\n",
      "\n",
      "! Definition of sequence\n",
      "\n",
      "! *********************************************************************\n",
      "\n",
      "\n",
      "\n",
      "JUAS: SEQUENCE, REFER=center, L=100; !it is important to refer to the the center this time, to make it compatible with the makethin \n",
      "\n",
      "qf: QF, at=0+QF->L/2;\n",
      "\n",
      "S1 : SF, at=5+SF->L/2;\n",
      "\n",
      "b1:  BM, at=10+BM->L/2;\n",
      "\n",
      "b2:  BM, at=30+BM->L/2;\n",
      "\n",
      "qd: QD, at=50+QD->L/2;\n",
      "\n",
      "S2 : SD, at=55+SD->L/2;\n",
      "\n",
      "b3:  BM, at=60+BM->L/2;\n",
      "\n",
      "b4:  BM, at=80+BM->L/2;\n",
      "\n",
      "ENDSEQUENCE;\n",
      "\n",
      "\n",
      "\n",
      "\n",
      "\n"
     ]
    }
   ],
   "source": [
    "madx.call(\"Tutorial5_solution.madx\")"
   ]
  },
  {
   "cell_type": "code",
   "execution_count": 5,
   "id": "34a8e0b3-12a1-4f18-a6ef-bd41b260ed1f",
   "metadata": {},
   "outputs": [
    {
     "name": "stdout",
     "output_type": "stream",
     "text": [
      "enter Twiss module\n",
      "  \n",
      "iteration:   1 error:   0.000000E+00 deltap:   0.000000E+00\n",
      "orbit:   0.000000E+00  0.000000E+00  0.000000E+00  0.000000E+00  0.000000E+00  0.000000E+00\n",
      "\n",
      "++++++ table: summ\n",
      "\n",
      "            length             orbit5               alfa            gammatr \n",
      "               100                 -0    0.0007669724505        36.10855572 \n",
      "\n",
      "                q1                dq1            betxmax              dxmax \n",
      "      0.2064690988       -0.240670538        159.7689581        2.989009703 \n",
      "\n",
      "             dxrms             xcomax             xcorms                 q2 \n",
      "       2.434308282                  0                  0       0.2063310524 \n",
      "\n",
      "               dq2            betymax              dymax              dyrms \n",
      "     -0.2407924343        159.8534466                  0                  0 \n",
      "\n",
      "            ycomax             ycorms             deltap            synch_1 \n",
      "                 0                  0                  0                  0 \n",
      "\n",
      "           synch_2            synch_3            synch_4            synch_5 \n",
      "                 0                  0                  0                  0 \n",
      "\n",
      "           synch_6            synch_8             nflips \n",
      "                 0                  0                  0 \n"
     ]
    },
    {
     "data": {
      "text/plain": [
       "True"
      ]
     },
     "execution_count": 5,
     "metadata": {},
     "output_type": "execute_result"
    }
   ],
   "source": [
    "myString='''\n",
    "! *********************************************************************\n",
    "! Definition of beam\n",
    "! *********************************************************************\n",
    "\n",
    "beam, particle=proton, energy=7000;\n",
    "\n",
    "! *********************************************************************\n",
    "! ACTIVATE SEQUENCE\n",
    "! *********************************************************************\n",
    "\n",
    "use, sequence=JUAS;\n",
    "\n",
    "! *********************************************************************\n",
    "! TWISS\n",
    "! *********************************************************************\n",
    "\n",
    "twiss, table= thick_sequence;\n",
    "'''\n",
    "madx.input(myString)"
   ]
  },
  {
   "cell_type": "code",
   "execution_count": 6,
   "id": "8010d3b5",
   "metadata": {},
   "outputs": [
    {
     "name": "stdout",
     "output_type": "stream",
     "text": [
      "enter Twiss module\n",
      "  \n",
      "iteration:   1 error:   0.000000E+00 deltap:   0.000000E+00\n",
      "orbit:   0.000000E+00  0.000000E+00  0.000000E+00  0.000000E+00  0.000000E+00  0.000000E+00\n",
      "\n",
      "++++++ table: summ\n",
      "\n",
      "            length             orbit5               alfa            gammatr \n",
      "               100                 -0    0.0007669724505        36.10855572 \n",
      "\n",
      "                q1                dq1            betxmax              dxmax \n",
      "      0.2064690988       -0.240670538        159.7689581        2.989009703 \n",
      "\n",
      "             dxrms             xcomax             xcorms                 q2 \n",
      "       2.434308282                  0                  0       0.2063310524 \n",
      "\n",
      "               dq2            betymax              dymax              dyrms \n",
      "     -0.2407924343        159.8534466                  0                  0 \n",
      "\n",
      "            ycomax             ycorms             deltap            synch_1 \n",
      "                 0                  0                  0                  0 \n",
      "\n",
      "           synch_2            synch_3            synch_4            synch_5 \n",
      "                 0                  0                  0                  0 \n",
      "\n",
      "           synch_6            synch_8             nflips \n",
      "                 0                  0                  0 \n",
      "++++++ warning: makethin: no selection list, slicing all to one thin lens.\n",
      "makethin: slicing sequence : juas\n",
      "enter Twiss module\n",
      "  \n",
      "iteration:   1 error:   0.000000E+00 deltap:   0.000000E+00\n",
      "orbit:   0.000000E+00  0.000000E+00  0.000000E+00  0.000000E+00  0.000000E+00  0.000000E+00\n",
      "\n",
      "++++++ table: summ\n",
      "\n",
      "            length             orbit5               alfa            gammatr \n",
      "               100                 -0    0.0007017201649        37.75009263 \n",
      "\n",
      "                q1                dq1            betxmax              dxmax \n",
      "      0.2150334975      -0.2548848527        166.4538635        2.865013582 \n",
      "\n",
      "             dxrms             xcomax             xcorms                 q2 \n",
      "       2.204525925                  0                  0       0.2149010414 \n",
      "\n",
      "               dq2            betymax              dymax              dyrms \n",
      "     -0.2548518744          166.53328                  0                  0 \n",
      "\n",
      "            ycomax             ycorms             deltap            synch_1 \n",
      "                 0                  0                  0                  0 \n",
      "\n",
      "           synch_2            synch_3            synch_4            synch_5 \n",
      "                 0                  0                  0                  0 \n",
      "\n",
      "           synch_6            synch_8             nflips \n",
      "                 0                  0                  0 \n",
      "START MATCHING\n",
      "\n",
      "number of sequences: 1\n",
      "sequence name: juas\n",
      "number of variables:    2\n",
      "user given constraints: 1\n",
      "total constraints:      2\n",
      "\n",
      "START LMDIF:\n",
      "\n",
      "Initial Penalty Function =   0.24545932E+00\n",
      "\n",
      "\n",
      "call:       4   Penalty function =   0.63880401E-03\n",
      "call:       7   Penalty function =   0.50769271E-08\n",
      "call:      10   Penalty function =   0.31923763E-18\n",
      " ++++++++++ LMDIF ended: converged successfully\n",
      "call:      10   Penalty function =   0.31923763E-18\n",
      "\n",
      "MATCH SUMMARY\n",
      "\n",
      "Node_Name                  Constraint   Type  Target Value       Final Value        Penalty\n",
      "--------------------------------------------------------------------------------------------------\n",
      "Global constraint:         q1           4     2.50000000E-01     2.50000000E-01     1.59766521E-19\n",
      "Global constraint:         q2           4     2.50000000E-01     2.50000000E-01     1.59471110E-19\n",
      "\n",
      "\n",
      "Final Penalty Function =   3.19237631e-19\n",
      "\n",
      "\n",
      "\n",
      "\n",
      "\n",
      "Variable                 Final Value  Initial Value Lower Limit  Upper Limit \n",
      "--------------------------------------------------------------------------------\n",
      "k1f                       5.65500e-03  5.00000e-03 -1.00000e+20  1.00000e+20\n",
      "k1d                      -5.65654e-03 -5.00000e-03 -1.00000e+20  1.00000e+20\n",
      "\n",
      "END MATCH SUMMARY\n",
      "\n",
      "VARIABLE \"TAR\" SET TO   3.19237631e-19\n",
      "enter Twiss module\n",
      "  \n",
      "iteration:   1 error:   0.000000E+00 deltap:   0.000000E+00\n",
      "orbit:   0.000000E+00  0.000000E+00  0.000000E+00  0.000000E+00  0.000000E+00  0.000000E+00\n",
      "\n",
      "++++++ table: summ\n",
      "\n",
      "            length             orbit5               alfa            gammatr \n",
      "               100                 -0    0.0005392861793        43.06161907 \n",
      "\n",
      "                q1                dq1            betxmax              dxmax \n",
      "              0.25       -0.318183869        170.6577821        2.310669633 \n",
      "\n",
      "             dxrms             xcomax             xcorms                 q2 \n",
      "       1.723324818                  0                  0               0.25 \n",
      "\n",
      "               dq2            betymax              dymax              dyrms \n",
      "     -0.3182487942        170.6875088                  0                  0 \n",
      "\n",
      "            ycomax             ycorms             deltap            synch_1 \n",
      "                 0                  0                  0                  0 \n",
      "\n",
      "           synch_2            synch_3            synch_4            synch_5 \n",
      "                 0                  0                  0                  0 \n",
      "\n",
      "           synch_6            synch_8             nflips \n",
      "                 0                  0                  0 \n"
     ]
    }
   ],
   "source": [
    "myString='''\n",
    "! *********************************************************************\n",
    "! TWISS\n",
    "! *********************************************************************\n",
    "\n",
    "twiss, table= thick_sequence;\n",
    "\n",
    "! *********************************************************************\n",
    "! MAKETHIN\n",
    "! *********************************************************************\n",
    "\n",
    "MAKETHIN, SEQUENCE=JUAS;\n",
    "\n",
    "! *********************************************************************\n",
    "! ACTIVATE SEQUENCE\n",
    "! *********************************************************************\n",
    "\n",
    "use, sequence=JUAS;\n",
    "\n",
    "! *********************************************************************\n",
    "! ACTIVATE SEQUENCE\n",
    "! *********************************************************************\n",
    "\n",
    "twiss, table= thin_sequence;\n",
    "\n",
    "//*************************************************//\n",
    "!   MATCHING OF THE TUNES\n",
    "//*************************************************//\n",
    "match, sequence=JUAS;\n",
    "!! Variables\n",
    "vary,name=K1F,step=0.0001;\n",
    "vary,name=K1D,step=0.0001;\n",
    "!! Constraints\n",
    "global, Q1=0.25;\n",
    "global, Q2=0.25;\n",
    "!! The next line ask MAD-X to do the matching itself\n",
    "LMDIF, calls = 1000, tolerance=1E-12;\n",
    "endmatch;\n",
    "\n",
    "! *********************************************************************\n",
    "! TWISS\n",
    "! *********************************************************************\n",
    "\n",
    "twiss, table=twiss_after_matching;\n",
    "\n",
    "'''\n",
    "madx.input(myString);"
   ]
  },
  {
   "cell_type": "code",
   "execution_count": 7,
   "id": "11304469",
   "metadata": {},
   "outputs": [
    {
     "name": "stdout",
     "output_type": "stream",
     "text": [
      "#e   -0.318184\n",
      "Name: dq1, dtype: float64\n"
     ]
    }
   ],
   "source": [
    "#Saving the data for the Non Zero Chomaticity\n",
    "thinNonZeroChromaSUMMTable=madx.table['summ'].dframe()\n",
    "print(thinNonZeroChromaSUMMTable[\"dq1\"])"
   ]
  },
  {
   "cell_type": "code",
   "execution_count": 8,
   "id": "e93fc751",
   "metadata": {},
   "outputs": [],
   "source": [
    "thinNonZeroChromaTWISSTable=madx.table['twiss_after_matching'].dframe()"
   ]
  },
  {
   "cell_type": "code",
   "execution_count": 9,
   "id": "c82dd5aa",
   "metadata": {},
   "outputs": [
    {
     "data": {
      "text/html": [
       "<div>\n",
       "<style scoped>\n",
       "    .dataframe tbody tr th:only-of-type {\n",
       "        vertical-align: middle;\n",
       "    }\n",
       "\n",
       "    .dataframe tbody tr th {\n",
       "        vertical-align: top;\n",
       "    }\n",
       "\n",
       "    .dataframe thead th {\n",
       "        text-align: right;\n",
       "    }\n",
       "</style>\n",
       "<table border=\"1\" class=\"dataframe\">\n",
       "  <thead>\n",
       "    <tr style=\"text-align: right;\">\n",
       "      <th></th>\n",
       "      <th>name</th>\n",
       "      <th>keyword</th>\n",
       "      <th>s</th>\n",
       "      <th>betx</th>\n",
       "      <th>alfx</th>\n",
       "      <th>mux</th>\n",
       "      <th>bety</th>\n",
       "      <th>alfy</th>\n",
       "      <th>muy</th>\n",
       "      <th>x</th>\n",
       "      <th>...</th>\n",
       "      <th>sig54</th>\n",
       "      <th>sig55</th>\n",
       "      <th>sig56</th>\n",
       "      <th>sig61</th>\n",
       "      <th>sig62</th>\n",
       "      <th>sig63</th>\n",
       "      <th>sig64</th>\n",
       "      <th>sig65</th>\n",
       "      <th>sig66</th>\n",
       "      <th>n1</th>\n",
       "    </tr>\n",
       "  </thead>\n",
       "  <tbody>\n",
       "    <tr>\n",
       "      <th>#s</th>\n",
       "      <td>juas$start:1</td>\n",
       "      <td>marker</td>\n",
       "      <td>0.00</td>\n",
       "      <td>158.844214</td>\n",
       "      <td>-2.312753</td>\n",
       "      <td>0.000000</td>\n",
       "      <td>31.613920</td>\n",
       "      <td>0.514115</td>\n",
       "      <td>0.000000</td>\n",
       "      <td>0.0</td>\n",
       "      <td>...</td>\n",
       "      <td>0.0</td>\n",
       "      <td>0.0</td>\n",
       "      <td>0.0</td>\n",
       "      <td>0.0</td>\n",
       "      <td>0.0</td>\n",
       "      <td>0.0</td>\n",
       "      <td>0.0</td>\n",
       "      <td>0.0</td>\n",
       "      <td>0.0</td>\n",
       "      <td>0.0</td>\n",
       "    </tr>\n",
       "    <tr>\n",
       "      <th>drift_0[0]</th>\n",
       "      <td>drift_0:0</td>\n",
       "      <td>drift</td>\n",
       "      <td>2.50</td>\n",
       "      <td>170.657782</td>\n",
       "      <td>-2.412675</td>\n",
       "      <td>0.002417</td>\n",
       "      <td>29.293298</td>\n",
       "      <td>0.414134</td>\n",
       "      <td>0.013090</td>\n",
       "      <td>0.0</td>\n",
       "      <td>...</td>\n",
       "      <td>0.0</td>\n",
       "      <td>0.0</td>\n",
       "      <td>0.0</td>\n",
       "      <td>0.0</td>\n",
       "      <td>0.0</td>\n",
       "      <td>0.0</td>\n",
       "      <td>0.0</td>\n",
       "      <td>0.0</td>\n",
       "      <td>0.0</td>\n",
       "      <td>0.0</td>\n",
       "    </tr>\n",
       "    <tr>\n",
       "      <th>qf</th>\n",
       "      <td>qf:1</td>\n",
       "      <td>multipole</td>\n",
       "      <td>2.50</td>\n",
       "      <td>170.657782</td>\n",
       "      <td>2.412675</td>\n",
       "      <td>0.002417</td>\n",
       "      <td>29.293298</td>\n",
       "      <td>-0.414134</td>\n",
       "      <td>0.013090</td>\n",
       "      <td>0.0</td>\n",
       "      <td>...</td>\n",
       "      <td>0.0</td>\n",
       "      <td>0.0</td>\n",
       "      <td>0.0</td>\n",
       "      <td>0.0</td>\n",
       "      <td>0.0</td>\n",
       "      <td>0.0</td>\n",
       "      <td>0.0</td>\n",
       "      <td>0.0</td>\n",
       "      <td>0.0</td>\n",
       "      <td>0.0</td>\n",
       "    </tr>\n",
       "    <tr>\n",
       "      <th>drift_1[0]</th>\n",
       "      <td>drift_1:0</td>\n",
       "      <td>drift</td>\n",
       "      <td>5.25</td>\n",
       "      <td>157.690336</td>\n",
       "      <td>2.302760</td>\n",
       "      <td>0.005085</td>\n",
       "      <td>31.873477</td>\n",
       "      <td>-0.524113</td>\n",
       "      <td>0.027433</td>\n",
       "      <td>0.0</td>\n",
       "      <td>...</td>\n",
       "      <td>0.0</td>\n",
       "      <td>0.0</td>\n",
       "      <td>0.0</td>\n",
       "      <td>0.0</td>\n",
       "      <td>0.0</td>\n",
       "      <td>0.0</td>\n",
       "      <td>0.0</td>\n",
       "      <td>0.0</td>\n",
       "      <td>0.0</td>\n",
       "      <td>0.0</td>\n",
       "    </tr>\n",
       "    <tr>\n",
       "      <th>s1</th>\n",
       "      <td>s1:1</td>\n",
       "      <td>multipole</td>\n",
       "      <td>5.25</td>\n",
       "      <td>157.690336</td>\n",
       "      <td>2.302760</td>\n",
       "      <td>0.005085</td>\n",
       "      <td>31.873477</td>\n",
       "      <td>-0.524113</td>\n",
       "      <td>0.027433</td>\n",
       "      <td>0.0</td>\n",
       "      <td>...</td>\n",
       "      <td>0.0</td>\n",
       "      <td>0.0</td>\n",
       "      <td>0.0</td>\n",
       "      <td>0.0</td>\n",
       "      <td>0.0</td>\n",
       "      <td>0.0</td>\n",
       "      <td>0.0</td>\n",
       "      <td>0.0</td>\n",
       "      <td>0.0</td>\n",
       "      <td>0.0</td>\n",
       "    </tr>\n",
       "  </tbody>\n",
       "</table>\n",
       "<p>5 rows × 256 columns</p>\n",
       "</div>"
      ],
      "text/plain": [
       "                    name    keyword     s        betx      alfx       mux  \\\n",
       "#s          juas$start:1     marker  0.00  158.844214 -2.312753  0.000000   \n",
       "drift_0[0]     drift_0:0      drift  2.50  170.657782 -2.412675  0.002417   \n",
       "qf                  qf:1  multipole  2.50  170.657782  2.412675  0.002417   \n",
       "drift_1[0]     drift_1:0      drift  5.25  157.690336  2.302760  0.005085   \n",
       "s1                  s1:1  multipole  5.25  157.690336  2.302760  0.005085   \n",
       "\n",
       "                 bety      alfy       muy    x  ...  sig54  sig55  sig56  \\\n",
       "#s          31.613920  0.514115  0.000000  0.0  ...    0.0    0.0    0.0   \n",
       "drift_0[0]  29.293298  0.414134  0.013090  0.0  ...    0.0    0.0    0.0   \n",
       "qf          29.293298 -0.414134  0.013090  0.0  ...    0.0    0.0    0.0   \n",
       "drift_1[0]  31.873477 -0.524113  0.027433  0.0  ...    0.0    0.0    0.0   \n",
       "s1          31.873477 -0.524113  0.027433  0.0  ...    0.0    0.0    0.0   \n",
       "\n",
       "            sig61  sig62  sig63  sig64  sig65  sig66   n1  \n",
       "#s            0.0    0.0    0.0    0.0    0.0    0.0  0.0  \n",
       "drift_0[0]    0.0    0.0    0.0    0.0    0.0    0.0  0.0  \n",
       "qf            0.0    0.0    0.0    0.0    0.0    0.0  0.0  \n",
       "drift_1[0]    0.0    0.0    0.0    0.0    0.0    0.0  0.0  \n",
       "s1            0.0    0.0    0.0    0.0    0.0    0.0  0.0  \n",
       "\n",
       "[5 rows x 256 columns]"
      ]
     },
     "execution_count": 9,
     "metadata": {},
     "output_type": "execute_result"
    }
   ],
   "source": [
    "thinNonZeroChromaTWISSTable.head()"
   ]
  },
  {
   "cell_type": "markdown",
   "id": "6061d273",
   "metadata": {},
   "source": [
    "#### MATCHING FOR CORRECTION\n"
   ]
  },
  {
   "cell_type": "code",
   "execution_count": 10,
   "id": "3b3213c0",
   "metadata": {},
   "outputs": [
    {
     "name": "stdout",
     "output_type": "stream",
     "text": [
      "START MATCHING\n",
      "\n",
      "number of sequences: 1\n",
      "sequence name: juas\n",
      "number of variables:    2\n",
      "user given constraints: 1\n",
      "total constraints:      2\n",
      "\n",
      "START LMDIF:\n",
      "\n",
      "Initial Penalty Function =   0.20252327E+00\n",
      "\n",
      "\n",
      "call:       4   Penalty function =   0.50194985E-28\n",
      " ++++++++++ LMDIF ended: converged successfully\n",
      "call:       4   Penalty function =   0.50194985E-28\n",
      "\n",
      "MATCH SUMMARY\n",
      "\n",
      "Node_Name                  Constraint   Type  Target Value       Final Value        Penalty\n",
      "--------------------------------------------------------------------------------------------------\n",
      "Global constraint:         dq1          4     0.00000000E+00    -6.21975138E-15     3.86853072E-29\n",
      "Global constraint:         dq2          4     0.00000000E+00    -3.39259166E-15     1.15096782E-29\n",
      "\n",
      "\n",
      "Final Penalty Function =   5.01949854e-29\n",
      "\n",
      "\n",
      "\n",
      "\n",
      "\n",
      "Variable                 Final Value  Initial Value Lower Limit  Upper Limit \n",
      "--------------------------------------------------------------------------------\n",
      "k2f                       2.86196e-02  0.00000e+00 -1.00000e+20  1.00000e+20\n",
      "k2d                      -5.54297e-02  0.00000e+00 -1.00000e+20  1.00000e+20\n",
      "\n",
      "END MATCH SUMMARY\n",
      "\n",
      "VARIABLE \"TAR\" SET TO   5.01949854e-29\n"
     ]
    }
   ],
   "source": [
    "myString='''\n",
    "//*************************************************//\n",
    "!   MATCHING OF THE CHROMATICITY\n",
    "//*************************************************//\n",
    "match, sequence=JUAS;\n",
    "!!! Variables\n",
    "vary,name=K2F,step=0.0001;\n",
    "vary,name=K2D,step=0.0001;\n",
    "!!! Constraints\n",
    "global, dq1=0.0; ! Chromaticities set to 0\n",
    "global, dq2=0.0;\n",
    "!!! The next line ask MAD-X to do the matching itself\n",
    "LMDIF, calls = 100, tolerance=1E-12;\n",
    "endmatch;\n",
    "'''\n",
    "madx.input(myString);"
   ]
  },
  {
   "cell_type": "code",
   "execution_count": 11,
   "id": "2af64bf6",
   "metadata": {},
   "outputs": [
    {
     "name": "stdout",
     "output_type": "stream",
     "text": [
      "enter Twiss module\n",
      "  \n",
      "iteration:   1 error:   0.000000E+00 deltap:   0.000000E+00\n",
      "orbit:   0.000000E+00  0.000000E+00  0.000000E+00  0.000000E+00  0.000000E+00  0.000000E+00\n",
      "\n",
      "++++++ table: summ\n",
      "\n",
      "            length             orbit5               alfa            gammatr \n",
      "               100                 -0    0.0005392861793        43.06161907 \n",
      "\n",
      "                q1                dq1            betxmax              dxmax \n",
      "              0.25   -6.219751377e-15        170.6577821        2.310669633 \n",
      "\n",
      "             dxrms             xcomax             xcorms                 q2 \n",
      "       1.723324818                  0                  0               0.25 \n",
      "\n",
      "               dq2            betymax              dymax              dyrms \n",
      "   -3.39259166e-15        170.6875088                  0                  0 \n",
      "\n",
      "            ycomax             ycorms             deltap            synch_1 \n",
      "                 0                  0                  0                  0 \n",
      "\n",
      "           synch_2            synch_3            synch_4            synch_5 \n",
      "                 0                  0                  0                  0 \n",
      "\n",
      "           synch_6            synch_8             nflips \n",
      "                 0                  0                  0 \n"
     ]
    }
   ],
   "source": [
    "myString='''\n",
    "//*************************************************//\n",
    "!   TWISS\n",
    "//*************************************************//\n",
    "SELECT,FLAG=TWISS, column=name,s,betx,bety,dx,K1L,K2L;\n",
    "twiss,file=\"twiss_after_chroma_correction.txt\";\n",
    "'''\n",
    "madx.input(myString);"
   ]
  },
  {
   "cell_type": "code",
   "execution_count": 12,
   "id": "f0382b53",
   "metadata": {},
   "outputs": [],
   "source": [
    "thinZeroChromaDFTable=madx.table['twiss'].dframe()"
   ]
  },
  {
   "cell_type": "markdown",
   "id": "b821f47c",
   "metadata": {},
   "source": [
    "#### 2. Using the 𝐾21 and 𝐾21, 𝛽-function and dispersion at the sextupole location, evaluate using the formula the sextupolar effect on the Q1 for a particle at DELTAP=0.01. Compare with the results obtained in the Tutorial 2: Part 1. <a id=\"Q2\"><a>"
   ]
  },
  {
   "cell_type": "markdown",
   "id": "4e45bd22",
   "metadata": {},
   "source": [
    "#### **Sextupoles contribution to the chromaticity from the formulas:\n",
    "$\\xi = \\frac{1}{4*\\pi}*(\\beta_{x,S1}*K2_1*Dx_{S1}+\\beta_{x,S2}*K2_2*Dx_{S2})$**"
   ]
  },
  {
   "cell_type": "code",
   "execution_count": 13,
   "id": "2b788c4b",
   "metadata": {},
   "outputs": [
    {
     "data": {
      "text/html": [
       "<div>\n",
       "<style scoped>\n",
       "    .dataframe tbody tr th:only-of-type {\n",
       "        vertical-align: middle;\n",
       "    }\n",
       "\n",
       "    .dataframe tbody tr th {\n",
       "        vertical-align: top;\n",
       "    }\n",
       "\n",
       "    .dataframe thead th {\n",
       "        text-align: right;\n",
       "    }\n",
       "</style>\n",
       "<table border=\"1\" class=\"dataframe\">\n",
       "  <thead>\n",
       "    <tr style=\"text-align: right;\">\n",
       "      <th></th>\n",
       "      <th>name</th>\n",
       "      <th>s</th>\n",
       "      <th>betx</th>\n",
       "      <th>dx</th>\n",
       "      <th>k2l</th>\n",
       "    </tr>\n",
       "  </thead>\n",
       "  <tbody>\n",
       "    <tr>\n",
       "      <th>#s</th>\n",
       "      <td>juas$start:1</td>\n",
       "      <td>0.00</td>\n",
       "      <td>158.844214</td>\n",
       "      <td>2.229002</td>\n",
       "      <td>0.00000</td>\n",
       "    </tr>\n",
       "    <tr>\n",
       "      <th>drift_0[0]</th>\n",
       "      <td>drift_0:0</td>\n",
       "      <td>2.50</td>\n",
       "      <td>170.657782</td>\n",
       "      <td>2.310670</td>\n",
       "      <td>0.00000</td>\n",
       "    </tr>\n",
       "    <tr>\n",
       "      <th>qf</th>\n",
       "      <td>qf:1</td>\n",
       "      <td>2.50</td>\n",
       "      <td>170.657782</td>\n",
       "      <td>2.310670</td>\n",
       "      <td>0.00000</td>\n",
       "    </tr>\n",
       "    <tr>\n",
       "      <th>drift_1[0]</th>\n",
       "      <td>drift_1:0</td>\n",
       "      <td>5.25</td>\n",
       "      <td>157.690336</td>\n",
       "      <td>2.220835</td>\n",
       "      <td>0.00000</td>\n",
       "    </tr>\n",
       "    <tr>\n",
       "      <th>s1</th>\n",
       "      <td>s1:1</td>\n",
       "      <td>5.25</td>\n",
       "      <td>157.690336</td>\n",
       "      <td>2.220835</td>\n",
       "      <td>0.01431</td>\n",
       "    </tr>\n",
       "  </tbody>\n",
       "</table>\n",
       "</div>"
      ],
      "text/plain": [
       "                    name     s        betx        dx      k2l\n",
       "#s          juas$start:1  0.00  158.844214  2.229002  0.00000\n",
       "drift_0[0]     drift_0:0  2.50  170.657782  2.310670  0.00000\n",
       "qf                  qf:1  2.50  170.657782  2.310670  0.00000\n",
       "drift_1[0]     drift_1:0  5.25  157.690336  2.220835  0.00000\n",
       "s1                  s1:1  5.25  157.690336  2.220835  0.01431"
      ]
     },
     "execution_count": 13,
     "metadata": {},
     "output_type": "execute_result"
    }
   ],
   "source": [
    "thinZeroChromaDFTable[['name','s','betx','dx','k2l']].head()"
   ]
  },
  {
   "cell_type": "code",
   "execution_count": 14,
   "id": "23262c80",
   "metadata": {},
   "outputs": [
    {
     "data": {
      "text/plain": [
       "0.3181838690044951"
      ]
     },
     "execution_count": 14,
     "metadata": {},
     "output_type": "execute_result"
    }
   ],
   "source": [
    "# Computatio of the sextupoles contribution to the chromaticity\n",
    "aux=thinZeroChromaDFTable\n",
    "(aux['betx']*aux['dx']*1*aux['k2l']).sum()/4./np.pi"
   ]
  },
  {
   "cell_type": "code",
   "execution_count": 15,
   "id": "1a85a168",
   "metadata": {},
   "outputs": [
    {
     "name": "stdout",
     "output_type": "stream",
     "text": [
      "dq1\n"
     ]
    },
    {
     "data": {
      "text/plain": [
       "#e   -0.318184\n",
       "Name: dq1, dtype: float64"
      ]
     },
     "execution_count": 15,
     "metadata": {},
     "output_type": "execute_result"
    }
   ],
   "source": [
    "#dq1 before compensation\n",
    "print(\"dq1\")\n",
    "thinNonZeroChromaSUMMTable[\"dq1\"]"
   ]
  },
  {
   "cell_type": "markdown",
   "id": "bc648b44",
   "metadata": {},
   "source": [
    "Very good compensation!"
   ]
  },
  {
   "cell_type": "markdown",
   "id": "c163eb69",
   "metadata": {},
   "source": [
    "#### 3. Track a particle with initial coordinates x,y,px,py = (1,1,0,0) mm in 100 cells and DELTAP=0.01. Plot the x-px phase space. Did you manage to recover the original tune for the off-momentum particle? <a id=\"Q3\"><a>\n",
    "\n",
    "\n",
    "#### 4. Track a particle with initial coordinates x,y,px,py=(100,100,0,0). How does the particle move in the phase space, cell after cell? Do you see the tunes? What is going on? <a id=\"Q4\"><a>"
   ]
  },
  {
   "cell_type": "code",
   "execution_count": 16,
   "id": "3f5b5035",
   "metadata": {},
   "outputs": [
    {
     "name": "stdout",
     "output_type": "stream",
     "text": [
      "enter TRACK module\n",
      "track_deltap:               0.01\n",
      "  \n",
      "iteration:   1 error:   2.169345E-02 deltap:   1.000000E-02\n",
      "orbit:   2.252700E-02  3.267927E-04  0.000000E+00  0.000000E+00  0.000000E+00  0.000000E+00\n",
      "  \n",
      "iteration:   2 error:   5.379295E-04 deltap:   1.000000E-02\n",
      "orbit:   2.226580E-02  3.247280E-04  0.000000E+00  0.000000E+00  0.000000E+00  0.000000E+00\n",
      "  \n",
      "iteration:   3 error:   7.064081E-08 deltap:   1.000000E-02\n",
      "orbit:   2.226577E-02  3.247277E-04  0.000000E+00  0.000000E+00  0.000000E+00  0.000000E+00\n",
      "\n",
      "++++++ table: tracksumm\n",
      "\n",
      "    number       turn                  x                 px \n",
      "         1          0              0.001                  0 \n",
      "         2          0                0.1                  0 \n",
      "         1        100    0.0009999737307    4.155530129e-09 \n",
      "         2        100                nan                nan \n",
      "\n",
      "                 y                 py                  t                 pt \n",
      "             0.001                  0                  0     0.009999999911 \n",
      "               0.1                  0                  0     0.009999999911 \n",
      "    0.001004154925   -3.402017758e-07     -0.05428674496     0.009999999911 \n",
      "               nan                nan                nan     0.009999999911 \n",
      "\n",
      "                 s                  e \n",
      "                 0                  0 \n",
      "                 0                  0 \n",
      "               100                  0 \n",
      "               100                  0 \n",
      "exit TRACK module\n",
      "\n"
     ]
    }
   ],
   "source": [
    "myString='''\n",
    "//*************************************************//\n",
    "!   TRACKING\n",
    "//*************************************************//\n",
    "track,dump,file='withSextupoles', DELTAP=0.01;\n",
    "start, x= 1e-3, px=0, y= 1e-3, py=0;\n",
    "start, x= 1e-1, px=0, y= 1e-1, py=0;\n",
    "run,turns=100;\n",
    "endtrack;\n",
    "'''\n",
    "madx.input(myString);"
   ]
  },
  {
   "cell_type": "code",
   "execution_count": 17,
   "id": "e6d78830",
   "metadata": {},
   "outputs": [],
   "source": [
    "off_momentum_nonlinear_particle_1=madx.table['track.obs0001.p0001'].dframe()\n",
    "off_momentum_nonlinear_particle_2=madx.table['track.obs0001.p0002'].dframe()"
   ]
  },
  {
   "cell_type": "code",
   "execution_count": 18,
   "id": "ad05ba46",
   "metadata": {},
   "outputs": [
    {
     "data": {
      "image/png": "[encoded data removed]",
      "text/plain": [
       "<Figure size 600x400 with 1 Axes>"
      ]
     },
     "metadata": {
      "needs_background": "light"
     },
     "output_type": "display_data"
    }
   ],
   "source": [
    "plt.rcParams['figure.dpi'] = 100\n",
    "myParticle=off_momentum_nonlinear_particle_1\n",
    "plt.plot(off_momentum_nonlinear_particle_1['x'],off_momentum_nonlinear_particle_1['px'],'ob',label='X-phase space')\n",
    "plt.plot(off_momentum_nonlinear_particle_1['y'],off_momentum_nonlinear_particle_1['px'],'.r',label='Y-phase space')\n",
    "plt.xlabel('[m]')\n",
    "plt.ylabel('[rad]')\n",
    "plt.grid()"
   ]
  },
  {
   "cell_type": "markdown",
   "id": "6116a7ad",
   "metadata": {},
   "source": [
    "#### But for larger amplitudes...\n",
    "#### What is the cost of increasing the energy acceptance...? A decrease in transverse acceptance."
   ]
  },
  {
   "cell_type": "code",
   "execution_count": 19,
   "id": "5ec5ce9d",
   "metadata": {},
   "outputs": [
    {
     "data": {
      "image/png": "[encoded data removed]",
      "text/plain": [
       "<Figure size 600x400 with 1 Axes>"
      ]
     },
     "metadata": {
      "needs_background": "light"
     },
     "output_type": "display_data"
    }
   ],
   "source": [
    "plt.rcParams['figure.dpi'] = 100\n",
    "myParticle=off_momentum_nonlinear_particle_2\n",
    "plt.plot(off_momentum_nonlinear_particle_2['x'],off_momentum_nonlinear_particle_2['px'],'ob',label='X-phase space')\n",
    "plt.plot(off_momentum_nonlinear_particle_2['y'],off_momentum_nonlinear_particle_2['px'],'.r',label='Y-phase space')\n",
    "plt.xlabel('[m]')\n",
    "plt.ylabel('[rad]')\n",
    "plt.grid()"
   ]
  },
  {
   "cell_type": "code",
   "execution_count": 20,
   "id": "381ed7f1",
   "metadata": {},
   "outputs": [
    {
     "data": {
      "image/png": "[encoded data removed]",
      "text/plain": [
       "<Figure size 600x400 with 1 Axes>"
      ]
     },
     "metadata": {
      "needs_background": "light"
     },
     "output_type": "display_data"
    }
   ],
   "source": [
    "plt.rcParams['figure.dpi'] = 100\n",
    "plt.plot(off_momentum_nonlinear_particle_1['turn'],off_momentum_nonlinear_particle_1['x'],'.-b', label='Particle 1')\n",
    "plt.plot(off_momentum_nonlinear_particle_2['turn'],off_momentum_nonlinear_particle_2['x'],'.-r', label='Particle 2' )\n",
    "plt.xlabel('Turn')\n",
    "plt.ylabel('[m]');\n",
    "plt.legend(loc='best');\n",
    "plt.ylim(-2,2)\n",
    "plt.grid()"
   ]
  },
  {
   "cell_type": "markdown",
   "id": "4f8fc1cb",
   "metadata": {},
   "source": [
    "#### **BONUS**\n",
    "\n",
    "#### 5. Move the tunes to (0.23, 0.23) and repeat the previous point. Is now the particle stable? <a id=\"Q5\"><a>"
   ]
  },
  {
   "cell_type": "code",
   "execution_count": 21,
   "id": "36376787",
   "metadata": {},
   "outputs": [
    {
     "name": "stdout",
     "output_type": "stream",
     "text": [
      "START MATCHING\n",
      "\n",
      "number of sequences: 1\n",
      "sequence name: juas\n",
      "number of variables:    2\n",
      "user given constraints: 1\n",
      "total constraints:      2\n",
      "\n",
      "START LMDIF:\n",
      "\n",
      "Initial Penalty Function =   0.80000000E-01\n",
      "\n",
      "\n",
      "call:       4   Penalty function =   0.67389929E-04\n",
      "call:       7   Penalty function =   0.43749329E-10\n",
      "call:      10   Penalty function =   0.12418907E-19\n",
      " ++++++++++ LMDIF ended: converged successfully\n",
      "call:      10   Penalty function =   0.12418907E-19\n",
      "\n",
      "MATCH SUMMARY\n",
      "\n",
      "Node_Name                  Constraint   Type  Target Value       Final Value        Penalty\n",
      "--------------------------------------------------------------------------------------------------\n",
      "Global constraint:         q1           4     2.30000000E-01     2.30000000E-01     5.54022419E-21\n",
      "Global constraint:         q2           4     2.30000000E-01     2.30000000E-01     6.87868253E-21\n",
      "\n",
      "\n",
      "Final Penalty Function =   1.24189067e-20\n",
      "\n",
      "\n",
      "\n",
      "\n",
      "\n",
      "Variable                 Final Value  Initial Value Lower Limit  Upper Limit \n",
      "--------------------------------------------------------------------------------\n",
      "k1f                       5.28850e-03  5.65500e-03 -1.00000e+20  1.00000e+20\n",
      "k1d                      -5.29009e-03 -5.65654e-03 -1.00000e+20  1.00000e+20\n",
      "\n",
      "END MATCH SUMMARY\n",
      "\n",
      "VARIABLE \"TAR\" SET TO   1.24189067e-20\n"
     ]
    }
   ],
   "source": [
    "myString='''\n",
    "//*************************************************//\n",
    "!   MATCHING OF THE TUNES\n",
    "//*************************************************//\n",
    "use, sequence=JUAS;\n",
    "\n",
    "match, sequence=JUAS;\n",
    "!! Variables\n",
    "vary,name=K1F,step=0.0001;\n",
    "vary,name=K1D,step=0.0001;\n",
    "!! Constraints\n",
    "global, Q1=0.23;\n",
    "global, Q2=0.23;\n",
    "!! The next line ask MAD-X to do the matching itself\n",
    "LMDIF, calls = 1000, tolerance=1E-12;\n",
    "endmatch;\n",
    "'''\n",
    "madx.input(myString);"
   ]
  },
  {
   "cell_type": "code",
   "execution_count": 22,
   "id": "84266f23",
   "metadata": {},
   "outputs": [
    {
     "name": "stdout",
     "output_type": "stream",
     "text": [
      "enter TRACK module\n",
      "track_deltap:               0.01\n",
      "  \n",
      "iteration:   1 error:   2.132920E-02 deltap:   1.000000E-02\n",
      "orbit:   2.539958E-02  3.437826E-04  0.000000E+00  0.000000E+00  0.000000E+00  0.000000E+00\n",
      "  \n",
      "iteration:   2 error:   6.535056E-04 deltap:   1.000000E-02\n",
      "orbit:   2.504765E-02  3.412053E-04  0.000000E+00  0.000000E+00  0.000000E+00  0.000000E+00\n",
      "  \n",
      "iteration:   3 error:   1.261471E-07 deltap:   1.000000E-02\n",
      "orbit:   2.504758E-02  3.412046E-04  0.000000E+00  0.000000E+00  0.000000E+00  0.000000E+00\n",
      "\n",
      "++++++ table: tracksumm\n",
      "\n",
      "    number       turn                  x                 px \n",
      "         1          0              0.001                  0 \n",
      "         2          0                0.1                  0 \n",
      "         1        100    9.855010256e-05   -1.358341187e-05 \n",
      "         2        100      0.05307021097   -0.0006440131512 \n",
      "\n",
      "                 y                 py                  t                 pt \n",
      "             0.001                  0                  0     0.009999999911 \n",
      "               0.1                  0                  0     0.009999999911 \n",
      "    0.001137349459    -1.69953615e-05     -0.06256536074     0.009999999911 \n",
      "      0.1357501231    -0.001582726486     -0.04441636076     0.009999999911 \n",
      "\n",
      "                 s                  e \n",
      "                 0                  0 \n",
      "                 0                  0 \n",
      "               100                  0 \n",
      "               100                  0 \n",
      "++++++ warning: cannot open output file: ./firstpart/newWP.obs0001.p0001\n",
      "++++++ warning: cannot open output file: ./firstpart/newWP.obs0001.p0002\n",
      "exit TRACK module\n",
      "\n"
     ]
    }
   ],
   "source": [
    "myString='''\n",
    "//*************************************************//\n",
    "!   TRACKING\n",
    "//*************************************************//\n",
    "track,dump,file='./firstpart/newWP', DELTAP=0.01;\n",
    "start, x= 1e-3, px=0, y= 1e-3, py=0;\n",
    "start, x= 1e-1, px=0, y= 1e-1, py=0;\n",
    "run,turns=100;\n",
    "endtrack;\n",
    "!plot, file=\"MAD_track\",table=track,haxis=x,vaxis=px,\n",
    "!particle=1,2, colour=100;\n",
    "!plot, file=\"MAD_track\",table=track,haxis=y,vaxis=py,\n",
    "!particle=1,2, colour=100;\n",
    "'''\n",
    "madx.input(myString);"
   ]
  },
  {
   "cell_type": "code",
   "execution_count": 23,
   "id": "3fbf04ec",
   "metadata": {},
   "outputs": [],
   "source": [
    "optWP_off_momentum_nonlinear_particle_1=madx.table['track.obs0001.p0001'].dframe()\n",
    "optWP_off_momentum_nonlinear_particle_2=madx.table['track.obs0001.p0002'].dframe()"
   ]
  },
  {
   "cell_type": "code",
   "execution_count": 24,
   "id": "58be57b3",
   "metadata": {},
   "outputs": [
    {
     "data": {
      "image/png": "[encoded data removed]",
      "text/plain": [
       "<Figure size 600x400 with 1 Axes>"
      ]
     },
     "metadata": {
      "needs_background": "light"
     },
     "output_type": "display_data"
    }
   ],
   "source": [
    "plt.rcParams['figure.dpi'] = 100\n",
    "myParticle=optWP_off_momentum_nonlinear_particle_2\n",
    "plt.plot(myParticle['x'],myParticle['px'],'ob',label='X-phase space')\n",
    "plt.plot(myParticle['y'],myParticle['px'],'.r',label='Y-phase space')\n",
    "plt.xlabel('[m]')\n",
    "plt.ylabel('[rad]')\n",
    "plt.grid()"
   ]
  },
  {
   "cell_type": "code",
   "execution_count": 25,
   "id": "8206c6ea",
   "metadata": {},
   "outputs": [
    {
     "data": {
      "image/png": "[encoded data removed]",
      "text/plain": [
       "<Figure size 600x400 with 1 Axes>"
      ]
     },
     "metadata": {
      "needs_background": "light"
     },
     "output_type": "display_data"
    }
   ],
   "source": [
    "plt.rcParams['figure.dpi'] = 100\n",
    "plt.plot(optWP_off_momentum_nonlinear_particle_1['turn'],optWP_off_momentum_nonlinear_particle_1['x'],'.-b', label='Particle 1')\n",
    "plt.plot(optWP_off_momentum_nonlinear_particle_2['turn'],optWP_off_momentum_nonlinear_particle_2['x'],'.-r', label='Particle 2' )\n",
    "plt.xlabel('Turn')\n",
    "plt.ylabel('[m]');\n",
    "plt.legend(loc='best');\n",
    "plt.ylim(-2,2)\n",
    "plt.grid()"
   ]
  },
  {
   "cell_type": "markdown",
   "id": "db3f819d",
   "metadata": {},
   "source": [
    "#### Sextupoles are needed for chromaticity correction...but they introduce non-linear fields which induces non-linear motion (tune shifts, resonances, chaotic motion...). Eventually particle motion becomes unstable and will be lost (dynamic aperture).\n",
    "\n",
    "#### We can improve the solution by moving far from resonances, thus selecting an optimum WORKING POINT."
   ]
  }
 ],
 "metadata": {
  "kernelspec": {
   "display_name": "Python 3",
   "language": "python",
   "name": "python3"
  },
  "language_info": {
   "codemirror_mode": {
    "name": "ipython",
    "version": 3
   },
   "file_extension": ".py",
   "mimetype": "text/x-python",
   "name": "python",
   "nbconvert_exporter": "python",
   "pygments_lexer": "ipython3",
   "version": "3.8.8"
  }
 },
 "nbformat": 4,
 "nbformat_minor": 5
}
