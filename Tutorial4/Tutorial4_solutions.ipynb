{
 "cells": [
  {
   "cell_type": "markdown",
   "id": "8a9ccda8-963d-47e3-84bd-411e46ab3656",
   "metadata": {},
   "source": [
    "# Tutorial 4: Natural chromaticity."
   ]
  },
  {
   "cell_type": "markdown",
   "id": "5d75c04e-c61e-4897-90eb-2dcff7470c4a",
   "metadata": {},
   "source": [
    "# Objectives\n",
    "#### - Quantify the natural **chromaticity of a FODO** \n",
    "\n",
    "<div>\n",
    "<img src=\"../Figures/Tutorial4_chroma.jpg\" width=\"500\"/>\n",
    "</div>\n",
    "\n",
    "#### - First tracking of particles using the tracking MAD-X engine to study the beam dynamics of particles in the FODO for different initial conditions."
   ]
  },
  {
   "cell_type": "markdown",
   "id": "96ae84dc-5036-4cf3-b9ee-5107d8e03c83",
   "metadata": {},
   "source": [
    "# Questions\n",
    "#### 1. Using the lattice and the MAD-X input file from Tutorial 3 , make thin your lattice and match the tunes of the FODO cell to 0.25, both horizontal and vertical.\n",
    "#### 2. Using the chromaticities obtained from the TWISS, compute the tunes for $\\Delta p / p = 10^{-3}$.\n",
    "#### 3. Track a particle with initial coordinates x,y,px,py = (1,1,0,0) mm in 100 cells. Plot the x-px phase space.\n",
    "#### 4. Track a particle with initial coordinates x,y,px,py=(100, 100, 0, 0) mm in 100 cells. Plot the x-px phase-space. Does something change with respect to the previous case? Why?\n",
    "#### **BONUS**\n",
    "#### 5. Repeat points 3 and 4 but adding DELTAP=1e-2 to the track command. How does the phase space look now? Is the tune still the same? It may help to look only at the first 4 turns to get a clearer picture."
   ]
  },
  {
   "cell_type": "markdown",
   "id": "b45d4567-2869-4887-ad0e-d600c4904470",
   "metadata": {},
   "source": [
    "# Python libraries "
   ]
  },
  {
   "cell_type": "code",
   "execution_count": 2,
   "id": "bd697799-f96f-432c-8a64-b1ab79d1f10f",
   "metadata": {},
   "outputs": [],
   "source": [
    "#########################################\n",
    "# Python libraries                      #\n",
    "#########################################\n",
    "from matplotlib import pyplot as plt\n",
    "import numpy as np\n",
    "import pandas as pd\n",
    "\n",
    "#########################################\n",
    "# Cpymad library                        #\n",
    "#########################################\n",
    "from cpymad.madx import Madx "
   ]
  },
  {
   "cell_type": "markdown",
   "id": "ff835d2a-d35b-46cb-b5ff-17bddd825511",
   "metadata": {},
   "source": [
    "# Launching MAD-X"
   ]
  },
  {
   "cell_type": "code",
   "execution_count": 3,
   "id": "96967b3b-ab86-4214-a275-cda37a0c8854",
   "metadata": {},
   "outputs": [
    {
     "name": "stdout",
     "output_type": "stream",
     "text": [
      "\n",
      "  ++++++++++++++++++++++++++++++++++++++++++++\n",
      "  +     MAD-X 5.07.00  (64 bit, Darwin)      +\n",
      "  + Support: mad@cern.ch, http://cern.ch/mad +\n",
      "  + Release   date: 2021.05.03               +\n",
      "  + Execution date: 2023.01.11 13:10:44      +\n",
      "  ++++++++++++++++++++++++++++++++++++++++++++\n"
     ]
    }
   ],
   "source": [
    "# madx = Madx(stdout=True)\n",
    "madx = Madx()"
   ]
  },
  {
   "cell_type": "markdown",
   "id": "e6ae660e-5efc-41a3-aea5-1f157b5332bd",
   "metadata": {},
   "source": [
    "# Methods in the Madx class from cpymad library to be used:"
   ]
  },
  {
   "cell_type": "markdown",
   "id": "244f7c20-af60-407d-bf9a-f633d7f6bec5",
   "metadata": {},
   "source": [
    "#### To run the MAD-X lattice input file:\n",
    "\n",
    "`madx.call('name_of_the_file.madx')`\n",
    "\n",
    "#### To save the MAD-X output data from the TWISS and SUMM tables into a pandas dataframe: \n",
    "\n",
    "`madx.table.twiss.dframe()`\n",
    "\n",
    "`madx.table.summ.dframe()`\n",
    "\n",
    "#### To run a MAD-X command from the Jupyter-notebook: \n",
    "\n",
    "`madx.input(\"MAD-X command\")`"
   ]
  },
  {
   "cell_type": "markdown",
   "id": "1230444f-9dfe-4b11-8963-80d06a2c8951",
   "metadata": {},
   "source": [
    "# Python plot commands"
   ]
  },
  {
   "cell_type": "markdown",
   "id": "59cf27ad-880c-4832-b011-14ed5e36cb95",
   "metadata": {},
   "source": [
    "#### You can copy/paste, uncomment and apply the example below for plotting:"
   ]
  },
  {
   "cell_type": "code",
   "execution_count": 4,
   "id": "6af52c40-2b87-488d-8d1a-d3aeb4c27a5a",
   "metadata": {},
   "outputs": [],
   "source": [
    "###########################\n",
    "#### Plot example code ####\n",
    "###########################\n",
    "\n",
    "#### To change the size of the plot window\n",
    "# plt.rcParams['figure.dpi'] = 100\n",
    "\n",
    "#### Plot command\n",
    "# plt.plot(x,y,'ob',label='Example')\n",
    "\n",
    "#### Adding labels\n",
    "# plt.xlabel('s[m]')\n",
    "# plt.ylabel('[m]')\n",
    "\n",
    "#### Adding a legend\n",
    "# plt.legend(loc='best')"
   ]
  },
  {
   "cell_type": "markdown",
   "id": "aa53062a-5382-416d-899f-eca15cb10b64",
   "metadata": {},
   "source": [
    "# Solutions"
   ]
  },
  {
   "cell_type": "markdown",
   "id": "a02780e3-6501-4a5d-ae33-686954647ed3",
   "metadata": {},
   "source": [
    "#### 1. Using the lattice and the MAD-X input file from Tutorial 3 match the tunes of the FODO cell to 0.25, both horizontal and vertical. <a id=\"Q1\"><a>"
   ]
  },
  {
   "cell_type": "code",
   "execution_count": 5,
   "id": "205acae0-daa4-4b45-a096-3a986f19205c",
   "metadata": {},
   "outputs": [
    {
     "name": "stdout",
     "output_type": "stream",
     "text": [
      "! *********************************************************************\n",
      "\n",
      "! Definition of parameters\n",
      "\n",
      "! *********************************************************************\n",
      "\n",
      "\n",
      "\n",
      "quadrupoleLength=5;\n",
      "\n",
      "dipoleLength=15;\n",
      "\n",
      "cellLength=100;\n",
      "\n",
      "nBend=736;\n",
      "\n",
      "\n",
      "\n",
      "myKF=0.0056;\n",
      "\n",
      "myKD=-0.0056;\n",
      "\n",
      "\n",
      "\n",
      "! *********************************************************************\n",
      "\n",
      "! Definition of magnets\n",
      "\n",
      "! ********************************************************************* \n",
      "\n",
      "\n",
      "\n",
      "QF: quadrupole, L=quadrupoleLength, K1:=myKF;\n",
      "\n",
      "QD: quadrupole, L=quadrupoleLength, K1:=myKD;\n",
      "\n",
      "BM: sbend, L=dipoleLength, angle=2*pi/nBend; \n",
      "\n",
      "\n",
      "\n",
      "! *********************************************************************\n",
      "\n",
      "! Definition of sequence\n",
      "\n",
      "! *********************************************************************\n",
      "\n",
      "\n",
      "\n",
      "myCell:sequence, refer=CENTER, L=cellLength; ! already changed to centre\n",
      "\n",
      "q1: QF, at=2.5;\n",
      "\n",
      "B1: BM, at =17.5;\n",
      "\n",
      "B2: BM, at =37.5;\n",
      "\n",
      "q2: QD, at=52.5;\n",
      "\n",
      "B3: BM, at =67.5;\n",
      "\n",
      "B4: BM, at =87.5;\n",
      "\n",
      "endsequence;\n",
      "\n",
      "\n",
      "\n",
      "\n",
      "\n"
     ]
    }
   ],
   "source": [
    "madx.call(\"Tutorial4_solution.madx\")"
   ]
  },
  {
   "cell_type": "markdown",
   "id": "f4966f92-eaf4-46e9-a833-054072bbb34b",
   "metadata": {},
   "source": [
    "#### After loading the lattice, we can define the beam and activate the sequence."
   ]
  },
  {
   "cell_type": "code",
   "execution_count": 6,
   "id": "9a63161c-f311-4958-a3ee-90f66526aa1b",
   "metadata": {},
   "outputs": [
    {
     "data": {
      "text/plain": [
       "True"
      ]
     },
     "execution_count": 6,
     "metadata": {},
     "output_type": "execute_result"
    }
   ],
   "source": [
    "myString='''\n",
    "! *********************************************************************\n",
    "! Definition of beam\n",
    "! *********************************************************************\n",
    "\n",
    "beam, particle=proton, energy=7000;\n",
    "\n",
    "! *********************************************************************\n",
    "! Use of the sequence\n",
    "! *********************************************************************\n",
    "use, sequence=myCell;\n",
    "\n",
    "'''\n",
    "\n",
    "madx.input(myString)"
   ]
  },
  {
   "cell_type": "markdown",
   "id": "99122b16-4476-4b52-92f5-1ffa54b51b84",
   "metadata": {},
   "source": [
    "#### Then, we can make thin the lattice and perform the desired matching."
   ]
  },
  {
   "cell_type": "code",
   "execution_count": 7,
   "id": "5dce7c56-2b49-4ade-a537-21ca76be078a",
   "metadata": {},
   "outputs": [
    {
     "name": "stdout",
     "output_type": "stream",
     "text": [
      "++++++ warning: unknown sequence ignored: my_sequence\n",
      "++++++ warning: unknown sequence skipped: my_sequence\n",
      "enter Twiss module\n",
      "  \n",
      "iteration:   1 error:   0.000000E+00 deltap:   0.000000E+00\n",
      "orbit:   0.000000E+00  0.000000E+00  0.000000E+00  0.000000E+00  0.000000E+00  0.000000E+00\n",
      "\n",
      "++++++ table: summ\n",
      "\n",
      "            length             orbit5               alfa            gammatr \n",
      "               100                 -0    0.0006051853679        40.64955451 \n",
      "\n",
      "                q1                dq1            betxmax              dxmax \n",
      "       0.236500685      -0.2917600666        160.5475138        2.444933737 \n",
      "\n",
      "             dxrms             xcomax             xcorms                 q2 \n",
      "       1.953527658                  0                  0       0.2363728498 \n",
      "\n",
      "               dq2            betymax              dymax              dyrms \n",
      "     -0.2918567527        160.6036546                  0                  0 \n",
      "\n",
      "            ycomax             ycorms             deltap            synch_1 \n",
      "                 0                  0                  0                  0 \n",
      "\n",
      "           synch_2            synch_3            synch_4            synch_5 \n",
      "                 0                  0                  0                  0 \n",
      "\n",
      "           synch_6            synch_8             nflips \n",
      "                 0                  0                  0 \n",
      "START MATCHING\n",
      "\n",
      "number of sequences: 1\n",
      "sequence name: mycell\n",
      "number of variables:    2\n",
      "user given constraints: 1\n",
      "total constraints:      2\n",
      "\n",
      "START LMDIF:\n",
      "\n",
      "Initial Penalty Function =   0.36793073E-01\n",
      "\n",
      "\n",
      "call:       4   Penalty function =   0.15759583E-04\n",
      "call:       7   Penalty function =   0.30667253E-11\n",
      " ++++++++++ LMDIF ended: converged successfully\n",
      "call:       7   Penalty function =   0.30667253E-11\n",
      "\n",
      "MATCH SUMMARY\n",
      "\n",
      "Node_Name                  Constraint   Type  Target Value       Final Value        Penalty\n",
      "--------------------------------------------------------------------------------------------------\n",
      "Global constraint:         q1           4     2.50000000E-01     2.50000123E-01     1.51762919E-12\n",
      "Global constraint:         q2           4     2.50000000E-01     2.50000124E-01     1.54909607E-12\n",
      "\n",
      "\n",
      "Final Penalty Function =   3.06672526e-12\n",
      "\n",
      "\n",
      "\n",
      "\n",
      "\n",
      "Variable                 Final Value  Initial Value Lower Limit  Upper Limit \n",
      "--------------------------------------------------------------------------------\n",
      "mykf                      5.85410e-03  5.60000e-03 -1.00000e+20  1.00000e+20\n",
      "mykd                     -5.85570e-03 -5.60000e-03 -1.00000e+20  1.00000e+20\n",
      "\n",
      "END MATCH SUMMARY\n",
      "\n",
      "VARIABLE \"TAR\" SET TO   3.06672526e-12\n",
      "enter Twiss module\n",
      "  \n",
      "iteration:   1 error:   0.000000E+00 deltap:   0.000000E+00\n",
      "orbit:   0.000000E+00  0.000000E+00  0.000000E+00  0.000000E+00  0.000000E+00  0.000000E+00\n",
      "\n",
      "++++++ table: summ\n",
      "\n",
      "            length             orbit5               alfa            gammatr \n",
      "               100                 -0     0.000551256816        42.59150769 \n",
      "\n",
      "                q1                dq1            betxmax              dxmax \n",
      "      0.2500001232      -0.3177280083         162.569022        2.261714883 \n",
      "\n",
      "             dxrms             xcomax             xcorms                 q2 \n",
      "       1.792093771                  0                  0       0.2500001245 \n",
      "\n",
      "               dq2            betymax              dymax              dyrms \n",
      "      -0.317932072        162.5918166                  0                  0 \n",
      "\n",
      "            ycomax             ycorms             deltap            synch_1 \n",
      "                 0                  0                  0                  0 \n",
      "\n",
      "           synch_2            synch_3            synch_4            synch_5 \n",
      "                 0                  0                  0                  0 \n",
      "\n",
      "           synch_6            synch_8             nflips \n",
      "                 0                  0                  0 \n",
      "table( summ q1 )*(nbend/4) =        46.00002267 ;\n",
      "table( summ q2 )*(nbend/4) =         46.0000229 ;\n",
      "table( summ dq1 )  =      -0.3177280083 ;\n",
      "table( summ dq2 )  =       -0.317932072 ;\n"
     ]
    },
    {
     "data": {
      "text/plain": [
       "True"
      ]
     },
     "execution_count": 7,
     "metadata": {},
     "output_type": "execute_result"
    }
   ],
   "source": [
    "myString='''\n",
    "\n",
    "! *********************************************************************\n",
    "! MAKETHIN\n",
    "! *********************************************************************\n",
    "select, flag=MAKETHIN, SLICE=5;\n",
    "MAKETHIN, SEQUENCE=MY_SEQUENCE;\n",
    "use, sequence=MY_SEQUENCE;\n",
    "        \n",
    "! *********************************************************************\n",
    "! TWISS BEFORE MATCHING\n",
    "! *********************************************************************\n",
    "\n",
    "twiss, table=beforematching, file=\"BeforeMatching.txt\";\n",
    "\n",
    "! *********************************************************************\n",
    "! MATCHING\n",
    "! *********************************************************************\n",
    "\n",
    "MATCH, SEQUENCE=myCell;\n",
    "GLOBAL, Q1=0.25;//H-tune\n",
    "GLOBAL, Q2=0.25;//V-tune\n",
    "VARY, NAME= myKF, STEP=0.00001;\n",
    "VARY, NAME= myKD, STEP=0.00001;\n",
    "LMDIF, CALLS=50, TOLERANCE=1e-6;//method adopted\n",
    "ENDMATCH;\n",
    "\n",
    "! *********************************************************************\n",
    "! TWISS AFTER MATCHING\n",
    "! *********************************************************************\n",
    "\n",
    "twiss, file=\"AfterMatching.txt\";\n",
    "\n",
    "\n",
    "! *********************************************************************\n",
    "! FINAL TUNE VALUES\n",
    "! *********************************************************************\n",
    "\n",
    "value, table(summ,Q1)*(nBend/4);\n",
    "value, table(summ,Q2)*(nBend/4);\n",
    "\n",
    "value, table(summ,dQ1);\n",
    "value, table(summ,dQ2);\n",
    "'''\n",
    "madx.input(myString)"
   ]
  },
  {
   "cell_type": "markdown",
   "id": "ac7a2ce7-3a86-4023-8c83-7bb7830ac801",
   "metadata": {},
   "source": [
    "#### 2. Using the chromaticities obtained from the TWISS, compute the tunes for $\\Delta p / p = 10^{-3}$. <a id=\"Q2\"><a>\n",
    "\n",
    "#### $\\Delta Q = dq* \\frac{\\Delta p}{p}$\n"
   ]
  },
  {
   "cell_type": "markdown",
   "id": "8588cae8",
   "metadata": {},
   "source": [
    "#### **REMEMBER** That the derivative functions in MAD-X are normalized by the relativistic factor beta.\n",
    "\n",
    "#### We could assume ultra-relativistic beam."
   ]
  },
  {
   "cell_type": "markdown",
   "id": "af29272d-e985-4167-a8da-30dd776fa17b",
   "metadata": {},
   "source": [
    "#### Pythonic approach to get the relativistic beta factor for our beam"
   ]
  },
  {
   "cell_type": "code",
   "execution_count": 8,
   "id": "c167d386",
   "metadata": {},
   "outputs": [
    {
     "name": "stdout",
     "output_type": "stream",
     "text": [
      "0.9999999910167906\n"
     ]
    }
   ],
   "source": [
    "beta_rel=madx.sequence['mycell'].beam.beta\n",
    "print (beta_rel)"
   ]
  },
  {
   "cell_type": "code",
   "execution_count": 10,
   "id": "fd9883a1",
   "metadata": {},
   "outputs": [
    {
     "name": "stdout",
     "output_type": "stream",
     "text": [
      "-0.3177280082808754\n"
     ]
    }
   ],
   "source": [
    "dq1_ref=madx.table['summ'].dq1[0]\n",
    "print(dq1_ref)"
   ]
  },
  {
   "cell_type": "markdown",
   "id": "35e84abe-0236-44ac-961f-93a34249ad45",
   "metadata": {},
   "source": [
    "#### Variation on the tune for an off-momentum of 1e-3"
   ]
  },
  {
   "cell_type": "code",
   "execution_count": 11,
   "id": "37c69764",
   "metadata": {},
   "outputs": [
    {
     "data": {
      "text/plain": [
       "-0.0003177280054266581"
      ]
     },
     "execution_count": 11,
     "metadata": {},
     "output_type": "execute_result"
    }
   ],
   "source": [
    "dq1_ref*beta_rel*1e-3"
   ]
  },
  {
   "cell_type": "markdown",
   "id": "c2ca903a",
   "metadata": {},
   "source": [
    "#### This detuning is quite important, this is something that we will see more clear when tracking particles in the lattice."
   ]
  },
  {
   "cell_type": "code",
   "execution_count": 13,
   "id": "dc4d3453",
   "metadata": {},
   "outputs": [
    {
     "name": "stdout",
     "output_type": "stream",
     "text": [
      "On-momentum tune\n",
      "0.25000012319209364\n",
      "Off-momentum tune\n",
      "0.24969012319209363\n"
     ]
    }
   ],
   "source": [
    "#Tune of the machine\n",
    "tune_onmomentum=madx.table['summ'].q1[0]\n",
    "print (\"On-momentum tune\")\n",
    "print(tune_onmomentum)\n",
    "tune_offmomentum=madx.table['summ'].q1[0]-0.00031\n",
    "print(\"Off-momentum tune\")\n",
    "print(tune_offmomentum)"
   ]
  },
  {
   "cell_type": "markdown",
   "id": "f6e6469f",
   "metadata": {},
   "source": [
    "#### 3. Track a particle with initial coordinates x,y,px,py = (1,1,0,0) mm in 100 cells. Plot the x-px phase space. \n",
    "\n",
    "#### The track module to be use:\n",
    "    \n",
    "        track, dump;    \n",
    "        start, x=1e-3, px=0, y=1e-3, py=0;    \n",
    "        run, turns=100;   \n",
    "        endtrack;  "
   ]
  },
  {
   "cell_type": "markdown",
   "id": "4cc94da5-3ebf-424a-8c72-022e7007e92d",
   "metadata": {},
   "source": [
    "#### Note that we need to rematch the lattice after the makethin to get again the target tune values."
   ]
  },
  {
   "cell_type": "code",
   "execution_count": 14,
   "id": "386e1559",
   "metadata": {},
   "outputs": [
    {
     "name": "stdout",
     "output_type": "stream",
     "text": [
      "enter TRACK module\n",
      "  \n",
      "iteration:   1 error:   0.000000E+00 deltap:   0.000000E+00\n",
      "orbit:   0.000000E+00  0.000000E+00  0.000000E+00  0.000000E+00  0.000000E+00  0.000000E+00\n",
      "\n",
      "Full 6D closed orbit search.\n",
      "Initial value of 6-D closed orbit from Twiss: \n",
      "orbit0   0.000000E+00  0.000000E+00  0.000000E+00  0.000000E+00  0.000000E+00  0.000000E+00\n",
      "  Singular matrix occurred during closed orbit search.\n",
      "\n",
      "6D closed orbit found by subroutine trclor \n",
      "iteration:   2 error:   7.105427E-15 deltap:   0.000000E+00\n",
      "orbit:   0.000000E+00  0.000000E+00  0.000000E+00  0.000000E+00  0.000000E+00  0.000000E+00\n",
      "\n",
      "++++++ table: tracksumm\n",
      "\n",
      "    number       turn                  x                 px \n",
      "         1          0              0.001                  0 \n",
      "         1        100    0.0009998145258   -3.207511358e-09 \n",
      "\n",
      "                 y                 py                  t                 pt \n",
      "             0.001                  0                  0                  0 \n",
      "    0.001000041549    -3.24242153e-09   -8.278389778e-06                  0 \n",
      "\n",
      "                 s                  e \n",
      "                 0                  0 \n",
      "               100                  0 \n",
      "exit TRACK module\n",
      "\n",
      "table( summ  q1 )  =       0.2500001232 ;\n",
      "table( summ  q2 )  =       0.2500001245 ;\n"
     ]
    }
   ],
   "source": [
    "myString='''\n",
    "\n",
    "!*********************************************************************\n",
    "! TRACKING\n",
    "!*********************************************************************\n",
    "\n",
    "track,dump,file='linear_machine', DELTAP=0;\n",
    "start, x= 1e-3, px=0, y= 1e-3, py=0;\n",
    "run,turns=100;\n",
    "endtrack;\n",
    "\n",
    "value, table(SUMM, Q1);\n",
    "value, table(SUMM, Q2);\n",
    "\n",
    "'''\n",
    "madx.input(myString);"
   ]
  },
  {
   "cell_type": "markdown",
   "id": "70b32c08-d1dc-41a9-875b-52732981b6ed",
   "metadata": {},
   "source": [
    "#### When activating the option dump on the track module a new table is generated by MAD-X with the tracking results for each particle."
   ]
  },
  {
   "cell_type": "code",
   "execution_count": 15,
   "id": "bdc6946b",
   "metadata": {},
   "outputs": [],
   "source": [
    "particle1=madx.table['track.obs0001.p0001'].dframe()"
   ]
  },
  {
   "cell_type": "code",
   "execution_count": 16,
   "id": "eb575174",
   "metadata": {},
   "outputs": [
    {
     "data": {
      "text/html": [
       "<div>\n",
       "<style scoped>\n",
       "    .dataframe tbody tr th:only-of-type {\n",
       "        vertical-align: middle;\n",
       "    }\n",
       "\n",
       "    .dataframe tbody tr th {\n",
       "        vertical-align: top;\n",
       "    }\n",
       "\n",
       "    .dataframe thead th {\n",
       "        text-align: right;\n",
       "    }\n",
       "</style>\n",
       "<table border=\"1\" class=\"dataframe\">\n",
       "  <thead>\n",
       "    <tr style=\"text-align: right;\">\n",
       "      <th></th>\n",
       "      <th>number</th>\n",
       "      <th>turn</th>\n",
       "      <th>x</th>\n",
       "      <th>px</th>\n",
       "      <th>y</th>\n",
       "      <th>py</th>\n",
       "      <th>t</th>\n",
       "      <th>pt</th>\n",
       "      <th>s</th>\n",
       "      <th>e</th>\n",
       "    </tr>\n",
       "  </thead>\n",
       "  <tbody>\n",
       "    <tr>\n",
       "      <th>#e</th>\n",
       "      <td>1.0</td>\n",
       "      <td>0.0</td>\n",
       "      <td>0.001000</td>\n",
       "      <td>0.000000e+00</td>\n",
       "      <td>0.001000</td>\n",
       "      <td>0.000000e+00</td>\n",
       "      <td>0.000000e+00</td>\n",
       "      <td>0.0</td>\n",
       "      <td>0.0</td>\n",
       "      <td>7000.0</td>\n",
       "    </tr>\n",
       "    <tr>\n",
       "      <th>#e</th>\n",
       "      <td>1.0</td>\n",
       "      <td>1.0</td>\n",
       "      <td>-0.002394</td>\n",
       "      <td>-4.139591e-05</td>\n",
       "      <td>0.000531</td>\n",
       "      <td>-4.141969e-05</td>\n",
       "      <td>1.997661e-05</td>\n",
       "      <td>0.0</td>\n",
       "      <td>0.0</td>\n",
       "      <td>7000.0</td>\n",
       "    </tr>\n",
       "    <tr>\n",
       "      <th>#e</th>\n",
       "      <td>1.0</td>\n",
       "      <td>2.0</td>\n",
       "      <td>-0.001000</td>\n",
       "      <td>6.415023e-11</td>\n",
       "      <td>-0.001000</td>\n",
       "      <td>6.484843e-11</td>\n",
       "      <td>6.685540e-05</td>\n",
       "      <td>0.0</td>\n",
       "      <td>0.0</td>\n",
       "      <td>7000.0</td>\n",
       "    </tr>\n",
       "    <tr>\n",
       "      <th>#e</th>\n",
       "      <td>1.0</td>\n",
       "      <td>3.0</td>\n",
       "      <td>0.002394</td>\n",
       "      <td>4.139591e-05</td>\n",
       "      <td>-0.000531</td>\n",
       "      <td>4.141969e-05</td>\n",
       "      <td>4.663598e-05</td>\n",
       "      <td>0.0</td>\n",
       "      <td>0.0</td>\n",
       "      <td>7000.0</td>\n",
       "    </tr>\n",
       "    <tr>\n",
       "      <th>#e</th>\n",
       "      <td>1.0</td>\n",
       "      <td>4.0</td>\n",
       "      <td>0.001000</td>\n",
       "      <td>-1.283005e-10</td>\n",
       "      <td>0.001000</td>\n",
       "      <td>-1.296969e-10</td>\n",
       "      <td>-3.311356e-07</td>\n",
       "      <td>0.0</td>\n",
       "      <td>0.0</td>\n",
       "      <td>7000.0</td>\n",
       "    </tr>\n",
       "  </tbody>\n",
       "</table>\n",
       "</div>"
      ],
      "text/plain": [
       "    number  turn         x            px         y            py  \\\n",
       "#e     1.0   0.0  0.001000  0.000000e+00  0.001000  0.000000e+00   \n",
       "#e     1.0   1.0 -0.002394 -4.139591e-05  0.000531 -4.141969e-05   \n",
       "#e     1.0   2.0 -0.001000  6.415023e-11 -0.001000  6.484843e-11   \n",
       "#e     1.0   3.0  0.002394  4.139591e-05 -0.000531  4.141969e-05   \n",
       "#e     1.0   4.0  0.001000 -1.283005e-10  0.001000 -1.296969e-10   \n",
       "\n",
       "               t   pt    s       e  \n",
       "#e  0.000000e+00  0.0  0.0  7000.0  \n",
       "#e  1.997661e-05  0.0  0.0  7000.0  \n",
       "#e  6.685540e-05  0.0  0.0  7000.0  \n",
       "#e  4.663598e-05  0.0  0.0  7000.0  \n",
       "#e -3.311356e-07  0.0  0.0  7000.0  "
      ]
     },
     "execution_count": 16,
     "metadata": {},
     "output_type": "execute_result"
    }
   ],
   "source": [
    "particle1.head()"
   ]
  },
  {
   "cell_type": "markdown",
   "id": "332af791-4809-4ec7-8d41-6855003c3995",
   "metadata": {},
   "source": [
    "#### Now we can plot the horizontal and vertical phase space."
   ]
  },
  {
   "cell_type": "markdown",
   "id": "232cb2ab-a66f-4a62-b87e-0c0ce4352261",
   "metadata": {},
   "source": [
    "#### Horizontal"
   ]
  },
  {
   "cell_type": "code",
   "execution_count": 17,
   "id": "7db2af09",
   "metadata": {},
   "outputs": [
    {
     "data": {
      "text/plain": [
       "(-5e-05, 5e-05)"
      ]
     },
     "execution_count": 17,
     "metadata": {},
     "output_type": "execute_result"
    },
    {
     "data": {
      "image/png": "[encoded data removed]",
      "text/plain": [
       "<Figure size 600x400 with 1 Axes>"
      ]
     },
     "metadata": {
      "needs_background": "light"
     },
     "output_type": "display_data"
    }
   ],
   "source": [
    "plt.rcParams['figure.dpi'] = 100\n",
    "plt.plot(particle1['x'],particle1['px'],'ob',label='X-phase space')\n",
    "#plt.plot(particle2['x'],particle2['px'],'or',label='X-phase space')\n",
    "plt.xlabel('[m]')\n",
    "plt.ylabel('p[rad]')\n",
    "plt.legend(loc='best')\n",
    "plt.xlim(-0.003,0.003)\n",
    "plt.ylim(-5e-5, 5e-5)"
   ]
  },
  {
   "cell_type": "markdown",
   "id": "c6e16db9-6d0e-4166-b43a-00aa64ceabd3",
   "metadata": {},
   "source": [
    "#### In order to understand better the plot, it is useful to plot the different turns with dfferent markers and only up to the fifth turn."
   ]
  },
  {
   "cell_type": "code",
   "execution_count": 18,
   "id": "0a94a81b",
   "metadata": {},
   "outputs": [
    {
     "data": {
      "text/plain": [
       "(-5e-05, 5e-05)"
      ]
     },
     "execution_count": 18,
     "metadata": {},
     "output_type": "execute_result"
    },
    {
     "data": {
      "image/png": "[encoded data removed]",
      "text/plain": [
       "<Figure size 600x400 with 1 Axes>"
      ]
     },
     "metadata": {
      "needs_background": "light"
     },
     "output_type": "display_data"
    }
   ],
   "source": [
    "plt.rcParams['figure.dpi'] = 100\n",
    "turn0=particle1[particle1[\"turn\"]==0]\n",
    "turn1=particle1[particle1[\"turn\"]==1]\n",
    "turn2=particle1[particle1[\"turn\"]==2]\n",
    "turn3=particle1[particle1[\"turn\"]==3]\n",
    "turn4=particle1[particle1[\"turn\"]==4]\n",
    "plt.plot(turn0['x']*1e3,turn0['px'],'xb',markersize=12,label='turn0')\n",
    "plt.plot(turn1['x']*1e3,turn1['px'],'or',label='turn1')\n",
    "plt.plot(turn2['x']*1e3,turn2['px'],'og',label='turn2')\n",
    "plt.plot(turn3['x']*1e3,turn3['px'],'oy',label='turn3')\n",
    "plt.plot(turn4['x']*1e3,turn4['px'],'ok',label='turn4')\n",
    "plt.xlabel('[mm]')\n",
    "plt.ylabel('[rad]')\n",
    "plt.legend(loc='best')\n",
    "plt.xlim(-3,3)\n",
    "plt.ylim(-5e-5, 5e-5)"
   ]
  },
  {
   "cell_type": "markdown",
   "id": "4c8b1b87-964a-4a1f-b477-d89eed6dea81",
   "metadata": {},
   "source": [
    "#### Vertical"
   ]
  },
  {
   "cell_type": "code",
   "execution_count": 19,
   "id": "22efd190",
   "metadata": {},
   "outputs": [
    {
     "data": {
      "text/plain": [
       "<matplotlib.legend.Legend at 0x7fd49528b880>"
      ]
     },
     "execution_count": 19,
     "metadata": {},
     "output_type": "execute_result"
    },
    {
     "data": {
      "image/png": "[encoded data removed]",
      "text/plain": [
       "<Figure size 600x400 with 1 Axes>"
      ]
     },
     "metadata": {
      "needs_background": "light"
     },
     "output_type": "display_data"
    }
   ],
   "source": [
    "plt.rcParams['figure.dpi'] = 100\n",
    "plt.plot(particle1['y']*1e3,particle1['py'],'.r',label='Y-phase space')\n",
    "plt.xlabel('[mm]')\n",
    "plt.ylabel('[rad]')\n",
    "plt.legend(loc='best')"
   ]
  },
  {
   "cell_type": "code",
   "execution_count": 20,
   "id": "7c52185c",
   "metadata": {},
   "outputs": [
    {
     "data": {
      "text/plain": [
       "(-5e-05, 5e-05)"
      ]
     },
     "execution_count": 20,
     "metadata": {},
     "output_type": "execute_result"
    },
    {
     "data": {
      "image/png": "[encoded data removed]",
      "text/plain": [
       "<Figure size 600x400 with 1 Axes>"
      ]
     },
     "metadata": {
      "needs_background": "light"
     },
     "output_type": "display_data"
    }
   ],
   "source": [
    "plt.rcParams['figure.dpi'] = 100\n",
    "turn0=particle1[particle1[\"turn\"]==0]\n",
    "turn1=particle1[particle1[\"turn\"]==1]\n",
    "turn2=particle1[particle1[\"turn\"]==2]\n",
    "turn3=particle1[particle1[\"turn\"]==3]\n",
    "turn4=particle1[particle1[\"turn\"]==4]\n",
    "plt.plot(turn0['y']*1e3,turn0['py'],'xb',markersize=12,label='turn0')\n",
    "plt.plot(turn1['y']*1e3,turn1['py'],'or',label='turn1')\n",
    "plt.plot(turn2['y']*1e3,turn2['py'],'og',label='turn2')\n",
    "plt.plot(turn3['y']*1e3,turn3['py'],'oy',label='turn3')\n",
    "plt.plot(turn4['y']*1e3,turn4['py'],'ok',label='turn4')\n",
    "plt.xlabel('[mm]')\n",
    "plt.ylabel('[rad]')\n",
    "plt.legend(loc='best')\n",
    "plt.xlim(-3,3)\n",
    "plt.ylim(-5e-5, 5e-5)"
   ]
  },
  {
   "cell_type": "markdown",
   "id": "670d95d4",
   "metadata": {},
   "source": [
    "#### 4. Track a particle with initial coordinates x,y,px,py=(100, 100, 0, 0) mm in 100 cells. Plot the x-px phase-space. Does something change with respect to the previous case? Why?"
   ]
  },
  {
   "cell_type": "markdown",
   "id": "a1a4cd02-6cb4-449f-a632-b9cbf28fe58c",
   "metadata": {},
   "source": [
    "#### Repeat the tracking exercise but for a larger amplitude"
   ]
  },
  {
   "cell_type": "code",
   "execution_count": 21,
   "id": "6219c627",
   "metadata": {},
   "outputs": [
    {
     "name": "stdout",
     "output_type": "stream",
     "text": [
      "enter TRACK module\n",
      "  \n",
      "iteration:   1 error:   0.000000E+00 deltap:   0.000000E+00\n",
      "orbit:   0.000000E+00  0.000000E+00  0.000000E+00  0.000000E+00  0.000000E+00  0.000000E+00\n",
      "\n",
      "Full 6D closed orbit search.\n",
      "Initial value of 6-D closed orbit from Twiss: \n",
      "orbit0   0.000000E+00  0.000000E+00  0.000000E+00  0.000000E+00  0.000000E+00  0.000000E+00\n",
      "  Singular matrix occurred during closed orbit search.\n",
      "\n",
      "6D closed orbit found by subroutine trclor \n",
      "iteration:   2 error:   7.105427E-15 deltap:   0.000000E+00\n",
      "orbit:   0.000000E+00  0.000000E+00  0.000000E+00  0.000000E+00  0.000000E+00  0.000000E+00\n",
      "\n",
      "++++++ table: tracksumm\n",
      "\n",
      "    number       turn                  x                 px \n",
      "         1          0                0.1                  0 \n",
      "         1        100      0.09979018114   -3.627895164e-06 \n",
      "\n",
      "                 y                 py                  t                 pt \n",
      "               0.1                  0                  0                  0 \n",
      "      0.1000465351   -3.633870787e-06     -0.08277605871                  0 \n",
      "\n",
      "                 s                  e \n",
      "                 0                  0 \n",
      "               100                  0 \n",
      "exit TRACK module\n",
      "\n"
     ]
    }
   ],
   "source": [
    "myString='''\n",
    "//*************************************************//\n",
    "!   TRACKING\n",
    "//*************************************************//\n",
    "\n",
    "track,dump,file='linear_machine', DELTAP=0.00;\n",
    "start, x= 1e-1, px=0, y= 1e-1, py=0;\n",
    "run,turns=100;\n",
    "endtrack;\n",
    "\n",
    "'''\n",
    "madx.input(myString);"
   ]
  },
  {
   "cell_type": "markdown",
   "id": "f4c26660-036d-48e5-be11-0d65b2bcd3bc",
   "metadata": {},
   "source": [
    "#### We save the data with a different name \"particle2\""
   ]
  },
  {
   "cell_type": "code",
   "execution_count": 23,
   "id": "ca599c93",
   "metadata": {},
   "outputs": [],
   "source": [
    "particle2=madx.table['track.obs0001.p0001'].dframe()"
   ]
  },
  {
   "cell_type": "code",
   "execution_count": 24,
   "id": "d80376cf",
   "metadata": {},
   "outputs": [
    {
     "data": {
      "text/plain": [
       "<matplotlib.legend.Legend at 0x7fd498f818b0>"
      ]
     },
     "execution_count": 24,
     "metadata": {},
     "output_type": "execute_result"
    },
    {
     "data": {
      "image/png": "[encoded data removed]",
      "text/plain": [
       "<Figure size 600x400 with 1 Axes>"
      ]
     },
     "metadata": {
      "needs_background": "light"
     },
     "output_type": "display_data"
    }
   ],
   "source": [
    "plt.rcParams['figure.dpi'] = 100\n",
    "#plt.plot(particle1['x'],particle1['px'],'ob',label='X-phase space')\n",
    "plt.plot(particle2['x'],particle2['px'],'or',label='X-phase space')\n",
    "plt.xlabel('[m]')\n",
    "plt.ylabel('[rad]')\n",
    "plt.legend(loc='best')\n",
    "#plt.xlim(-0.003,0.003)\n",
    "#plt.ylim(-5e-5, 5e-5)"
   ]
  },
  {
   "cell_type": "code",
   "execution_count": 25,
   "id": "922e8b2a",
   "metadata": {},
   "outputs": [
    {
     "data": {
      "text/plain": [
       "<matplotlib.legend.Legend at 0x7fd49522d940>"
      ]
     },
     "execution_count": 25,
     "metadata": {},
     "output_type": "execute_result"
    },
    {
     "data": {
      "image/png": "[encoded data removed]",
      "text/plain": [
       "<Figure size 600x400 with 1 Axes>"
      ]
     },
     "metadata": {
      "needs_background": "light"
     },
     "output_type": "display_data"
    }
   ],
   "source": [
    "# Plot visualization options\n",
    "plt.rcParams['figure.dpi'] = 100\n",
    "\n",
    "turn0=particle2[particle2[\"turn\"]==0]\n",
    "turn1=particle2[particle2[\"turn\"]==1]\n",
    "turn2=particle2[particle2[\"turn\"]==2]\n",
    "turn3=particle2[particle2[\"turn\"]==3]\n",
    "turn4=particle2[particle2[\"turn\"]==4]\n",
    "plt.plot(turn0['x'],turn0['px'],'xb',markersize=12,label='turn0')\n",
    "plt.plot(turn1['x'],turn1['px'],'or',label='turn1')\n",
    "plt.plot(turn2['x'],turn2['px'],'og',label='turn2')\n",
    "plt.plot(turn3['x'],turn3['px'],'oy',label='turn3')\n",
    "plt.plot(turn4['x'],turn4['px'],'ok',label='turn4')\n",
    "plt.xlabel('[m]')\n",
    "plt.ylabel('[rad]')\n",
    "plt.legend(loc='best')"
   ]
  },
  {
   "cell_type": "markdown",
   "id": "cf626168-5740-4d14-96f6-5ebfa6394cf7",
   "metadata": {},
   "source": [
    "#### Answer: We obtain a similar plot as before but with larger amplitues."
   ]
  },
  {
   "cell_type": "markdown",
   "id": "9b54f1f7-c766-45f2-beb1-f93338e440bd",
   "metadata": {},
   "source": [
    "#### In order to see the difference between the two particle 1 and 2, one can also plot the amplitude vs the turn number"
   ]
  },
  {
   "cell_type": "code",
   "execution_count": 26,
   "id": "b837cf6c",
   "metadata": {},
   "outputs": [
    {
     "data": {
      "image/png": "[encoded data removed]",
      "text/plain": [
       "<Figure size 600x400 with 1 Axes>"
      ]
     },
     "metadata": {
      "needs_background": "light"
     },
     "output_type": "display_data"
    }
   ],
   "source": [
    "# We can also plot the amplitude of the particle vs the turn number\n",
    "# Plot visualization options\n",
    "plt.rcParams['figure.dpi'] = 100\n",
    "plt.plot(particle1['turn'],particle1['x'],'.-b', label='Particle 1')\n",
    "plt.plot(particle2['turn'],particle2['x'],'.-r', label='Particle 2')\n",
    "plt.xlabel('Turn')\n",
    "plt.ylabel('[m]');\n",
    "plt.legend(loc='best');"
   ]
  },
  {
   "cell_type": "markdown",
   "id": "298a41bb-007c-4f20-8ca9-dbc30b3a2e2f",
   "metadata": {},
   "source": [
    "#### One can use this data to compute the tune by making a FFT analysis. The resulting amplitude will correspond the tune."
   ]
  },
  {
   "cell_type": "code",
   "execution_count": 27,
   "id": "e5dab9a4",
   "metadata": {},
   "outputs": [
    {
     "data": {
      "image/png": "[encoded data removed]",
      "text/plain": [
       "<Figure size 600x400 with 1 Axes>"
      ]
     },
     "metadata": {
      "needs_background": "light"
     },
     "output_type": "display_data"
    }
   ],
   "source": [
    "plt.rcParams['figure.dpi'] = 100\n",
    "# The amplitude of the FFT of the particle amplitude oscilations gives as a mesure of the tune\n",
    "# Just play with an FFT on \n",
    "plt.figure()\n",
    "plt.plot(np.linspace(0,1,len(particle1['x'])), np.abs(np.fft.fft(particle1['x'])), 'r')\n",
    "plt.plot(np.linspace(0,1,len(particle2['x'])), np.abs(np.fft.fft(particle2['x'])), 'b')\n",
    "plt.xlabel('Q1 from X')\n",
    "plt.ylabel('FFT amplitude [arb. units]');\n",
    "plt.xlim(0,0.5)# The max. possible frequency for a given sampling rate that can be reconstruct is given by the Nyquist limit= sampling frecuency/2. In our case the sampling rate is 1, so the limit is 0.5.\n",
    "plt.grid()"
   ]
  },
  {
   "cell_type": "markdown",
   "id": "75134021",
   "metadata": {},
   "source": [
    "#### **BONUS**\n",
    "\n",
    "#### 5. Repeat points 3 and 4 but adding DELTAP=1e-2 to the track command. How does the phase space look now? Is the tune still same? It may help to look only at the first 4 turns to get a clearer picture."
   ]
  },
  {
   "cell_type": "code",
   "execution_count": 29,
   "id": "56658a28",
   "metadata": {},
   "outputs": [
    {
     "name": "stdout",
     "output_type": "stream",
     "text": [
      "enter TRACK module\n",
      "track_deltap:               0.01\n",
      "  \n",
      "iteration:   1 error:   2.167801E-02 deltap:   1.000000E-02\n",
      "orbit:   2.246269E-02  3.258240E-04  0.000000E+00  0.000000E+00  0.000000E+00  0.000000E+00\n",
      "  \n",
      "iteration:   2 error:   3.469447E-18 deltap:   1.000000E-02\n",
      "orbit:   2.246269E-02  3.258240E-04  0.000000E+00  0.000000E+00  0.000000E+00  0.000000E+00\n",
      "\n",
      "++++++ table: tracksumm\n",
      "\n",
      "      turn                  x                 px \n",
      "         1          0              0.001                  0 \n",
      "         2          0                0.1                  0 \n",
      "         1        100     0.002184671656    4.784742909e-05 \n",
      "         2        100       0.1722802632     0.003662241955 \n",
      "\n",
      "                 y                 py                  t                 pt \n",
      "             0.001                  0                  0     0.009999999911 \n",
      "               0.1                  0                  0     0.009999999911 \n",
      "  -0.0008659736043    3.648859851e-05     -0.05480574959     0.009999999911 \n",
      "    -0.08643327511     0.003652364222      -0.1263965407     0.009999999911 \n",
      "\n",
      "                 s                  e \n",
      "                 0                  0 \n",
      "                 0                  0 \n",
      "               100                  0 \n",
      "               100                  0 \n",
      "exit TRACK module\n",
      "\n"
     ]
    }
   ],
   "source": [
    "myString='''\n",
    "//*************************************************//\n",
    "!   TRACKING\n",
    "//*************************************************//\n",
    "\n",
    "track,dump,file='linear_machine_off_energy', DELTAP=0.01;\n",
    "start, x= 1e-3, px=0, y= 1e-3, py=0;\n",
    "start, x= 1e-1, px=0, y= 1e-1, py=0;\n",
    "run,turns=100;\n",
    "endtrack;\n",
    "\n",
    "'''\n",
    "madx.input(myString);"
   ]
  },
  {
   "cell_type": "markdown",
   "id": "5a8e0f95-4328-4e35-8bf0-5983f5b6a68e",
   "metadata": {},
   "source": [
    "#### Saving the off-momentum tracking data"
   ]
  },
  {
   "cell_type": "code",
   "execution_count": 30,
   "id": "7d8d7785",
   "metadata": {},
   "outputs": [],
   "source": [
    "off_momentum_particle1=madx.table['track.obs0001.p0001'].dframe()\n",
    "off_momentum_particle2=madx.table['track.obs0001.p0002'].dframe()"
   ]
  },
  {
   "cell_type": "markdown",
   "id": "b0a61103-4f90-4227-8b8d-cb8bf9690d85",
   "metadata": {},
   "source": [
    "#### Plot"
   ]
  },
  {
   "cell_type": "code",
   "execution_count": 31,
   "id": "642a1dde",
   "metadata": {},
   "outputs": [
    {
     "data": {
      "text/plain": [
       "<matplotlib.legend.Legend at 0x7fa0020332b0>"
      ]
     },
     "execution_count": 31,
     "metadata": {},
     "output_type": "execute_result"
    },
    {
     "data": {
      "image/png": "[encoded data removed]",
      "text/plain": [
       "<Figure size 600x400 with 1 Axes>"
      ]
     },
     "metadata": {
      "needs_background": "light"
     },
     "output_type": "display_data"
    }
   ],
   "source": [
    "plt.rcParams['figure.dpi'] = 100\n",
    "plt.plot(off_momentum_particle1['x'],off_momentum_particle1['px'],'ob',label='X-phase space')\n",
    "plt.plot(off_momentum_particle1['y'],off_momentum_particle1['py'],'.r',label='Y-phase space')\n",
    "plt.xlabel('[m]')\n",
    "plt.ylabel('[rad]')\n",
    "plt.legend(loc='best')"
   ]
  },
  {
   "cell_type": "markdown",
   "id": "017213ae",
   "metadata": {},
   "source": [
    "#### The same plot for larger amplitudes"
   ]
  },
  {
   "cell_type": "code",
   "execution_count": 32,
   "id": "8da30463-8692-491a-a1f6-6c970c222701",
   "metadata": {},
   "outputs": [
    {
     "data": {
      "text/plain": [
       "<matplotlib.legend.Legend at 0x7fa0020987f0>"
      ]
     },
     "execution_count": 32,
     "metadata": {},
     "output_type": "execute_result"
    },
    {
     "data": {
      "image/png": "[encoded data removed]",
      "text/plain": [
       "<Figure size 600x400 with 1 Axes>"
      ]
     },
     "metadata": {
      "needs_background": "light"
     },
     "output_type": "display_data"
    }
   ],
   "source": [
    "plt.rcParams['figure.dpi'] = 100\n",
    "\n",
    "plt.plot(off_momentum_particle2['x'],off_momentum_particle2['px'],'ob',label='X-phase space')\n",
    "plt.plot(off_momentum_particle2['y'],off_momentum_particle2['py'],'.r',label='Y-phase space')\n",
    "plt.xlabel('[m]')\n",
    "plt.ylabel('[rad]')\n",
    "plt.legend(loc='best')"
   ]
  },
  {
   "cell_type": "markdown",
   "id": "88c72bdd-ec49-49e9-b45f-2785fe190c85",
   "metadata": {},
   "source": [
    "#### As we track off-momentum particles the tune is afected by the natural chromaticity of the FODO and it is not 0.25 anymore."
   ]
  },
  {
   "cell_type": "markdown",
   "id": "662ceead-6ec0-45a6-b4e6-f4d9db7dd51d",
   "metadata": {},
   "source": [
    "#### The observed effect is small, however in machines with stronger quadrupoles the impact could be higher and correction schemes are needed such as the one we will design in the next tutorial."
   ]
  }
 ],
 "metadata": {
  "kernelspec": {
   "display_name": "Python 3",
   "language": "python",
   "name": "python3"
  },
  "language_info": {
   "codemirror_mode": {
    "name": "ipython",
    "version": 3
   },
   "file_extension": ".py",
   "mimetype": "text/x-python",
   "name": "python",
   "nbconvert_exporter": "python",
   "pygments_lexer": "ipython3",
   "version": "3.8.8"
  }
 },
 "nbformat": 4,
 "nbformat_minor": 5
}
