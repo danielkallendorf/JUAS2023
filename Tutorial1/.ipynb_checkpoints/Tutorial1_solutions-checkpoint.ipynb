{
 "cells": [
  {
   "cell_type": "markdown",
   "id": "22625172-f659-4633-a564-31904e9ec844",
   "metadata": {},
   "source": [
    "# Tutorial 1: My first accelerator, a FODO cell."
   ]
  },
  {
   "cell_type": "markdown",
   "id": "71a15702-fd56-489c-9b49-7dd552cb2699",
   "metadata": {},
   "source": [
    "# Objectives\n",
    "#### - Get a working enviroment (if not ready!).\n",
    "#### - Get familiar with the pythonic approach to use MAD-X.\n",
    "#### - Define a simple lattice.\n",
    "#### - Compute the optics using the TWISS MAD-X engine."
   ]
  },
  {
   "cell_type": "markdown",
   "id": "859af6a2-494d-49f2-8f11-640fcf7739bd",
   "metadata": {},
   "source": [
    "# Questions\n",
    "#### 1. Define the lattice MAD-X input file (.madx) for a FODO cell with the following characteristics:\n",
    "   - Length of the cell, $L_{cell}$ = 100 m.\n",
    "   - Two quadrupoles, one focusing (FQ) and another one defocusing (DQ) of 5 m long ($L_q$).\n",
    "   - Put the start of the first quadrupole at the start of the sequence.\n",
    "   - Each quadrupole has a focal length f = 200 m. (HINT: k1 x $L_q$= 1/f).\n",
    "     \n",
    "     <div>\n",
    "     <img src=\"../Figures/Tutorial1_FODO.png\" width=\"500\"/>\n",
    "     </div>\n",
    "     \n",
    "#### 2. Define a proton beam with $E_{tot}$ = 2 GeV. Activate the sequence and try to find the periodic solution with the TWISS MAD-X function. Then, plot the $\\beta$-functions. If you found $\\beta_{max}$ = 460 m you succeeded!\n",
    "\n",
    "#### 3. Using the plot you obtained can you estimate the phase advance of the cell. Compare with the tunes obtained with the TWISS.\n",
    "\n",
    "#### 4. Try with $E_{tot}$ = 0.7 GeV: what is the MAD-X error message? Try with f = 20 m: what is the MAD-X error message? (Note that the error messages will appear in the jupyter-notebook or in the terminal from which you launched the JupyterLab)."
   ]
  },
  {
   "cell_type": "markdown",
   "id": "01968304-1b17-4fc4-aef5-9b59d3f82d57",
   "metadata": {},
   "source": [
    "# MAD-X pythonic approach basic steps:\n",
    "\n",
    "#### - Load the cpymad library.\n",
    "#### - Instantiate the MAD-X class (we create an object of that class and run a MAD-X process).\n",
    "#### - Access the methods of the class Madx in order to communicate with the opened MAD-X process."
   ]
  },
  {
   "cell_type": "code",
   "execution_count": null,
   "id": "a8192da0-0ec5-4f1a-a627-15372318134a",
   "metadata": {},
   "outputs": [],
   "source": []
  },
  {
   "cell_type": "markdown",
   "id": "65b16a0d-a4e0-4370-a704-2c2b861a2133",
   "metadata": {},
   "source": [
    "# Python libraries \n",
    "\n",
    "#### The python universe has a huge number of libraries that extend the capabilities of python. Nearly all of these are open source. The first thing that we need to do is to import the ones that we want to use."
   ]
  },
  {
   "cell_type": "code",
   "execution_count": 1,
   "id": "98527fc6-748a-4b0b-b8ac-3b91a8f08804",
   "metadata": {},
   "outputs": [],
   "source": [
    "#########################################\n",
    "# Python libraries                      #\n",
    "#########################################\n",
    "from matplotlib import pyplot as plt\n",
    "import numpy as np\n",
    "import pandas as pd\n",
    "\n",
    "#########################################\n",
    "# Cpymad library                        #\n",
    "#########################################\n",
    "from cpymad.madx import Madx "
   ]
  },
  {
   "cell_type": "markdown",
   "id": "ff2fe5c8-45c6-4d29-a408-8a52a8175932",
   "metadata": {},
   "source": [
    "#### More on the cpymad library: http://hibtc.github.io/cpymad/getting-started"
   ]
  },
  {
   "cell_type": "markdown",
   "id": "025a7092-1831-40c1-8443-7e069e72483d",
   "metadata": {},
   "source": [
    "# Python plot commands"
   ]
  },
  {
   "cell_type": "markdown",
   "id": "1d6ff5cb-1719-4f4b-8245-043fa86f546c",
   "metadata": {},
   "source": [
    "#### You can copy/paste, uncomment and apply the example below for plotting:"
   ]
  },
  {
   "cell_type": "code",
   "execution_count": 2,
   "id": "bb12ff5a-3c50-42a0-b8bd-63e275b0f34f",
   "metadata": {},
   "outputs": [],
   "source": [
    "###########################\n",
    "#### Plot example code ####\n",
    "###########################\n",
    "\n",
    "#### To change the size of the plot window\n",
    "# plt.rcParams['figure.dpi'] = 100\n",
    "\n",
    "#### Plot command\n",
    "# plt.plot(x,y,'ob',label='Example')\n",
    "\n",
    "#### Adding labels\n",
    "# plt.xlabel('s[m]')\n",
    "# plt.ylabel('[m]')\n",
    "\n",
    "#### Adding a legend\n",
    "# plt.legend(loc='best')"
   ]
  },
  {
   "cell_type": "markdown",
   "id": "28f5da9c-febf-4bd5-a619-1af7de4e0f07",
   "metadata": {},
   "source": [
    "# Launching MAD-X"
   ]
  },
  {
   "cell_type": "code",
   "execution_count": 3,
   "id": "da014ced-d0a2-45a4-bb1b-5404164a2f99",
   "metadata": {},
   "outputs": [
    {
     "name": "stdout",
     "output_type": "stream",
     "text": [
      "\n",
      "  ++++++++++++++++++++++++++++++++++++++++++++\n",
      "  +     MAD-X 5.07.00  (64 bit, Darwin)      +\n",
      "  + Support: mad@cern.ch, http://cern.ch/mad +\n",
      "  + Release   date: 2021.05.03               +\n",
      "  + Execution date: 2022.12.29 12:53:20      +\n",
      "  ++++++++++++++++++++++++++++++++++++++++++++\n"
     ]
    }
   ],
   "source": [
    "# madx = Madx(stdout=True)\n",
    "madx = Madx()"
   ]
  },
  {
   "cell_type": "markdown",
   "id": "2f346704-bb8d-41c8-b413-157e22eccf05",
   "metadata": {},
   "source": [
    "# Methods in the Madx class from cpymad library to be used:"
   ]
  },
  {
   "cell_type": "markdown",
   "id": "b0fdc6a8-0d15-4d54-bed3-9c452b74a38c",
   "metadata": {},
   "source": [
    "#### To run the MAD-X lattice input file:\n",
    "\n",
    "`madx.call('name_of_the_file.madx')`\n",
    "\n",
    "#### To save the MAD-X output data from the TWISS and SUMM tables into a pandas dataframe: \n",
    "\n",
    "`madx.table.twiss.dframe()`\n",
    "\n",
    "`madx.table.summ.dframe()`\n",
    "\n",
    "#### To run a MAD-X command from the Jupyter-notebook: \n",
    "\n",
    "`madx.input(\"MAD-X command\")`"
   ]
  },
  {
   "cell_type": "markdown",
   "id": "c262888a-2a97-424d-a851-27d8f98ce571",
   "metadata": {},
   "source": [
    "# Solutions"
   ]
  },
  {
   "cell_type": "markdown",
   "id": "558f2236-8496-4951-b67d-473eff72d79d",
   "metadata": {},
   "source": [
    "#### 1. Define the MAD-X input file (.madx) for a FODO cell with the following characteristics:\n",
    " - Length of the cell, $L_{cell}$ = 100 m.\n",
    " - Two quadrupoles, one focusing (FQ) and another one defocusing (DQ) of 5 m long ($L_q$).\n",
    " - Put the start of the first quadrupole at the start of the sequence.\n",
    " - Each quadrupole has a focal length f = 200 m. (HINT: k1 x $L_q$= 1/f). \n",
    " \n",
    "<div>\n",
    "<img src=\"../Figures/Tutorial1_FODO.png\" width=\"500\"/>\n",
    "</div>"
   ]
  },
  {
   "cell_type": "code",
   "execution_count": 4,
   "id": "9a6dbae4",
   "metadata": {},
   "outputs": [
    {
     "name": "stdout",
     "output_type": "stream",
     "text": [
      "! *********************************************************************\n",
      "\n",
      "! Definition of parameters\n",
      "\n",
      "! *********************************************************************\n",
      "\n",
      "\n",
      "\n",
      "l_cell=100;\n",
      "\n",
      "quadrupoleLenght=5;\n",
      "\n",
      "f=200;\n",
      "\n",
      "myK:=1/f/quadrupoleLenght;// m^-2\n",
      "\n",
      "\n",
      "\n",
      "! *********************************************************************\n",
      "\n",
      "! Definition of magnets\n",
      "\n",
      "! ********************************************************************* \n",
      "\n",
      "QF: quadrupole, L=quadrupoleLenght, K1:=myK;\n",
      "\n",
      "QD: quadrupole, L=quadrupoleLenght, K1:=-myK;\n",
      "\n",
      "\n",
      "\n",
      "! *********************************************************************\n",
      "\n",
      "! Definition of sequence\n",
      "\n",
      "! *********************************************************************\n",
      "\n",
      "myCell:sequence, refer=entry, L=L_CELL;\n",
      "\n",
      "quadrupole1: QF, at=0;\n",
      "\n",
      "marker1: marker, at=25;\n",
      "\n",
      "quadrupole2: QD, at=50;\n",
      "\n",
      "marker2: marker, at=75;\n",
      "\n",
      "endsequence;\n",
      "\n",
      "\n",
      "\n"
     ]
    }
   ],
   "source": [
    "madx.call('Tutorial1_solution.madx');"
   ]
  },
  {
   "cell_type": "markdown",
   "id": "19b6075b-cceb-4b46-a707-e05c1453d83b",
   "metadata": {},
   "source": [
    "#### 2. Define a proton beam with $E_{tot}$ = 2 GeV. Activate the sequence and try to find the periodic solution with the TWISS MAD-X function. Then, plot the $\\beta$-functions. If you found $\\beta_{max}$ = 460 m you succeeded! "
   ]
  },
  {
   "cell_type": "code",
   "execution_count": 5,
   "id": "3c386775-6894-4d64-bcf5-8dbda2aade06",
   "metadata": {},
   "outputs": [
    {
     "name": "stdout",
     "output_type": "stream",
     "text": [
      "enter Twiss module\n",
      "  \n",
      "iteration:   1 error:   0.000000E+00 deltap:   0.000000E+00\n",
      "orbit:   0.000000E+00  0.000000E+00  0.000000E+00  0.000000E+00  0.000000E+00  0.000000E+00\n",
      "\n",
      "++++++ table: summ\n",
      "\n",
      "            length             orbit5               alfa            gammatr \n",
      "               100                 -0                  0                  0 \n",
      "\n",
      "                q1                dq1            betxmax              dxmax \n",
      "     0.03853349451     -0.04384718845        463.6232883                  0 \n",
      "\n",
      "             dxrms             xcomax             xcorms                 q2 \n",
      "                 0                  0                  0      0.03853349451 \n",
      "\n",
      "               dq2            betymax              dymax              dyrms \n",
      "    -0.04384718845        463.6232883                  0                  0 \n",
      "\n",
      "            ycomax             ycorms             deltap            synch_1 \n",
      "                 0                  0                  0                  0 \n",
      "\n",
      "           synch_2            synch_3            synch_4            synch_5 \n",
      "                 0                  0                  0                  0 \n",
      "\n",
      "           synch_6            synch_8             nflips \n",
      "                 0                  0                  0 \n"
     ]
    },
    {
     "data": {
      "text/plain": [
       "True"
      ]
     },
     "execution_count": 5,
     "metadata": {},
     "output_type": "execute_result"
    }
   ],
   "source": [
    "myString='''\n",
    "\n",
    "! *********************************************************************\n",
    "! Definition of beam\n",
    "! *********************************************************************\n",
    "beam, particle=proton, energy:=2;\n",
    "\n",
    "! *********************************************************************\n",
    "! Use of the sequence\n",
    "! *********************************************************************\n",
    "use, sequence=myCell;\n",
    "\n",
    "! *********************************************************************\n",
    "! TWISS\n",
    "! *********************************************************************\n",
    "\n",
    "twiss, file=MyfirstFODO.txt;\n",
    "\n",
    "'''\n",
    "\n",
    "madx.input(myString)"
   ]
  },
  {
   "cell_type": "markdown",
   "id": "d660fb45",
   "metadata": {},
   "source": [
    "#### Accessing the MAD-X output data with python-cpymad functions"
   ]
  },
  {
   "cell_type": "markdown",
   "id": "0b782f75-5a2e-4d73-b92d-049187f16d5a",
   "metadata": {},
   "source": [
    "#### Saving the twiss table output from MAD-X into a pandas dataframe using the method `madx.table.twiss.dframe()`"
   ]
  },
  {
   "cell_type": "code",
   "execution_count": 6,
   "id": "3c4cfb81-aed4-4747-a7c8-6bb37ccfb27f",
   "metadata": {},
   "outputs": [
    {
     "name": "stdout",
     "output_type": "stream",
     "text": [
      "['summ', 'twiss']\n"
     ]
    }
   ],
   "source": [
    "#first we can check the list of existing table names\n",
    "print(list(madx.table))"
   ]
  },
  {
   "cell_type": "code",
   "execution_count": 7,
   "id": "663017ea",
   "metadata": {},
   "outputs": [],
   "source": [
    "#saving the twiss table in myDF\n",
    "myDF=madx.table.twiss.dframe()"
   ]
  },
  {
   "cell_type": "code",
   "execution_count": 8,
   "id": "69358658-f253-44a9-b25f-c34eb7edcc49",
   "metadata": {},
   "outputs": [
    {
     "data": {
      "text/html": [
       "<div>\n",
       "<style scoped>\n",
       "    .dataframe tbody tr th:only-of-type {\n",
       "        vertical-align: middle;\n",
       "    }\n",
       "\n",
       "    .dataframe tbody tr th {\n",
       "        vertical-align: top;\n",
       "    }\n",
       "\n",
       "    .dataframe thead th {\n",
       "        text-align: right;\n",
       "    }\n",
       "</style>\n",
       "<table border=\"1\" class=\"dataframe\">\n",
       "  <thead>\n",
       "    <tr style=\"text-align: right;\">\n",
       "      <th></th>\n",
       "      <th>name</th>\n",
       "      <th>keyword</th>\n",
       "      <th>s</th>\n",
       "      <th>betx</th>\n",
       "      <th>bety</th>\n",
       "      <th>alfx</th>\n",
       "      <th>alfy</th>\n",
       "      <th>mux</th>\n",
       "      <th>muy</th>\n",
       "      <th>dx</th>\n",
       "      <th>dy</th>\n",
       "      <th>x</th>\n",
       "      <th>y</th>\n",
       "    </tr>\n",
       "  </thead>\n",
       "  <tbody>\n",
       "    <tr>\n",
       "      <th>#s</th>\n",
       "      <td>mycell$start:1</td>\n",
       "      <td>marker</td>\n",
       "      <td>0.0</td>\n",
       "      <td>463.623288</td>\n",
       "      <td>369.779162</td>\n",
       "      <td>-1.156109</td>\n",
       "      <td>0.929316</td>\n",
       "      <td>0.000000</td>\n",
       "      <td>0.000000</td>\n",
       "      <td>0.0</td>\n",
       "      <td>0.0</td>\n",
       "      <td>0.0</td>\n",
       "      <td>0.0</td>\n",
       "    </tr>\n",
       "    <tr>\n",
       "      <th>quadrupole1</th>\n",
       "      <td>quadrupole1:1</td>\n",
       "      <td>quadrupole</td>\n",
       "      <td>5.0</td>\n",
       "      <td>463.623288</td>\n",
       "      <td>369.779162</td>\n",
       "      <td>1.156109</td>\n",
       "      <td>-0.929316</td>\n",
       "      <td>0.001709</td>\n",
       "      <td>0.002161</td>\n",
       "      <td>0.0</td>\n",
       "      <td>0.0</td>\n",
       "      <td>0.0</td>\n",
       "      <td>0.0</td>\n",
       "    </tr>\n",
       "    <tr>\n",
       "      <th>drift_0[0]</th>\n",
       "      <td>drift_0:0</td>\n",
       "      <td>drift</td>\n",
       "      <td>25.0</td>\n",
       "      <td>419.394867</td>\n",
       "      <td>408.967742</td>\n",
       "      <td>1.055312</td>\n",
       "      <td>-1.030113</td>\n",
       "      <td>0.008930</td>\n",
       "      <td>0.010350</td>\n",
       "      <td>0.0</td>\n",
       "      <td>0.0</td>\n",
       "      <td>0.0</td>\n",
       "      <td>0.0</td>\n",
       "    </tr>\n",
       "    <tr>\n",
       "      <th>marker1</th>\n",
       "      <td>marker1:1</td>\n",
       "      <td>marker</td>\n",
       "      <td>25.0</td>\n",
       "      <td>419.394867</td>\n",
       "      <td>408.967742</td>\n",
       "      <td>1.055312</td>\n",
       "      <td>-1.030113</td>\n",
       "      <td>0.008930</td>\n",
       "      <td>0.010350</td>\n",
       "      <td>0.0</td>\n",
       "      <td>0.0</td>\n",
       "      <td>0.0</td>\n",
       "      <td>0.0</td>\n",
       "    </tr>\n",
       "    <tr>\n",
       "      <th>drift_1[0]</th>\n",
       "      <td>drift_1:0</td>\n",
       "      <td>drift</td>\n",
       "      <td>50.0</td>\n",
       "      <td>369.779162</td>\n",
       "      <td>463.623288</td>\n",
       "      <td>0.929316</td>\n",
       "      <td>-1.156109</td>\n",
       "      <td>0.019041</td>\n",
       "      <td>0.019493</td>\n",
       "      <td>0.0</td>\n",
       "      <td>0.0</td>\n",
       "      <td>0.0</td>\n",
       "      <td>0.0</td>\n",
       "    </tr>\n",
       "    <tr>\n",
       "      <th>quadrupole2</th>\n",
       "      <td>quadrupole2:1</td>\n",
       "      <td>quadrupole</td>\n",
       "      <td>55.0</td>\n",
       "      <td>369.779162</td>\n",
       "      <td>463.623288</td>\n",
       "      <td>-0.929316</td>\n",
       "      <td>1.156109</td>\n",
       "      <td>0.021202</td>\n",
       "      <td>0.021202</td>\n",
       "      <td>0.0</td>\n",
       "      <td>0.0</td>\n",
       "      <td>0.0</td>\n",
       "      <td>0.0</td>\n",
       "    </tr>\n",
       "    <tr>\n",
       "      <th>drift_2[0]</th>\n",
       "      <td>drift_2:0</td>\n",
       "      <td>drift</td>\n",
       "      <td>75.0</td>\n",
       "      <td>408.967742</td>\n",
       "      <td>419.394867</td>\n",
       "      <td>-1.030113</td>\n",
       "      <td>1.055312</td>\n",
       "      <td>0.029391</td>\n",
       "      <td>0.028423</td>\n",
       "      <td>0.0</td>\n",
       "      <td>0.0</td>\n",
       "      <td>0.0</td>\n",
       "      <td>0.0</td>\n",
       "    </tr>\n",
       "    <tr>\n",
       "      <th>marker2</th>\n",
       "      <td>marker2:1</td>\n",
       "      <td>marker</td>\n",
       "      <td>75.0</td>\n",
       "      <td>408.967742</td>\n",
       "      <td>419.394867</td>\n",
       "      <td>-1.030113</td>\n",
       "      <td>1.055312</td>\n",
       "      <td>0.029391</td>\n",
       "      <td>0.028423</td>\n",
       "      <td>0.0</td>\n",
       "      <td>0.0</td>\n",
       "      <td>0.0</td>\n",
       "      <td>0.0</td>\n",
       "    </tr>\n",
       "    <tr>\n",
       "      <th>drift_3[0]</th>\n",
       "      <td>drift_3:0</td>\n",
       "      <td>drift</td>\n",
       "      <td>100.0</td>\n",
       "      <td>463.623288</td>\n",
       "      <td>369.779162</td>\n",
       "      <td>-1.156109</td>\n",
       "      <td>0.929316</td>\n",
       "      <td>0.038533</td>\n",
       "      <td>0.038533</td>\n",
       "      <td>0.0</td>\n",
       "      <td>0.0</td>\n",
       "      <td>0.0</td>\n",
       "      <td>0.0</td>\n",
       "    </tr>\n",
       "    <tr>\n",
       "      <th>#e</th>\n",
       "      <td>mycell$end:1</td>\n",
       "      <td>marker</td>\n",
       "      <td>100.0</td>\n",
       "      <td>463.623288</td>\n",
       "      <td>369.779162</td>\n",
       "      <td>-1.156109</td>\n",
       "      <td>0.929316</td>\n",
       "      <td>0.038533</td>\n",
       "      <td>0.038533</td>\n",
       "      <td>0.0</td>\n",
       "      <td>0.0</td>\n",
       "      <td>0.0</td>\n",
       "      <td>0.0</td>\n",
       "    </tr>\n",
       "  </tbody>\n",
       "</table>\n",
       "</div>"
      ],
      "text/plain": [
       "                       name     keyword      s        betx        bety  \\\n",
       "#s           mycell$start:1      marker    0.0  463.623288  369.779162   \n",
       "quadrupole1   quadrupole1:1  quadrupole    5.0  463.623288  369.779162   \n",
       "drift_0[0]        drift_0:0       drift   25.0  419.394867  408.967742   \n",
       "marker1           marker1:1      marker   25.0  419.394867  408.967742   \n",
       "drift_1[0]        drift_1:0       drift   50.0  369.779162  463.623288   \n",
       "quadrupole2   quadrupole2:1  quadrupole   55.0  369.779162  463.623288   \n",
       "drift_2[0]        drift_2:0       drift   75.0  408.967742  419.394867   \n",
       "marker2           marker2:1      marker   75.0  408.967742  419.394867   \n",
       "drift_3[0]        drift_3:0       drift  100.0  463.623288  369.779162   \n",
       "#e             mycell$end:1      marker  100.0  463.623288  369.779162   \n",
       "\n",
       "                 alfx      alfy       mux       muy   dx   dy    x    y  \n",
       "#s          -1.156109  0.929316  0.000000  0.000000  0.0  0.0  0.0  0.0  \n",
       "quadrupole1  1.156109 -0.929316  0.001709  0.002161  0.0  0.0  0.0  0.0  \n",
       "drift_0[0]   1.055312 -1.030113  0.008930  0.010350  0.0  0.0  0.0  0.0  \n",
       "marker1      1.055312 -1.030113  0.008930  0.010350  0.0  0.0  0.0  0.0  \n",
       "drift_1[0]   0.929316 -1.156109  0.019041  0.019493  0.0  0.0  0.0  0.0  \n",
       "quadrupole2 -0.929316  1.156109  0.021202  0.021202  0.0  0.0  0.0  0.0  \n",
       "drift_2[0]  -1.030113  1.055312  0.029391  0.028423  0.0  0.0  0.0  0.0  \n",
       "marker2     -1.030113  1.055312  0.029391  0.028423  0.0  0.0  0.0  0.0  \n",
       "drift_3[0]  -1.156109  0.929316  0.038533  0.038533  0.0  0.0  0.0  0.0  \n",
       "#e          -1.156109  0.929316  0.038533  0.038533  0.0  0.0  0.0  0.0  "
      ]
     },
     "execution_count": 8,
     "metadata": {},
     "output_type": "execute_result"
    }
   ],
   "source": [
    "#selecting some columns from myDF\n",
    "myDF[['name','keyword','s','betx','bety','alfx','alfy','mux','muy','dx','dy','x','y']]"
   ]
  },
  {
   "cell_type": "markdown",
   "id": "3b42bad8-3b59-4115-923f-ad3fea6fbc84",
   "metadata": {},
   "source": [
    "#### Saving the twiss table output from MAD-X into a pandas dataframe using the method `madx.table.summ.dframe()`"
   ]
  },
  {
   "cell_type": "code",
   "execution_count": 9,
   "id": "9c10e221-00b5-49df-8fb0-35649e376777",
   "metadata": {},
   "outputs": [
    {
     "data": {
      "text/html": [
       "<div>\n",
       "<style scoped>\n",
       "    .dataframe tbody tr th:only-of-type {\n",
       "        vertical-align: middle;\n",
       "    }\n",
       "\n",
       "    .dataframe tbody tr th {\n",
       "        vertical-align: top;\n",
       "    }\n",
       "\n",
       "    .dataframe thead th {\n",
       "        text-align: right;\n",
       "    }\n",
       "</style>\n",
       "<table border=\"1\" class=\"dataframe\">\n",
       "  <thead>\n",
       "    <tr style=\"text-align: right;\">\n",
       "      <th></th>\n",
       "      <th>length</th>\n",
       "      <th>orbit5</th>\n",
       "      <th>alfa</th>\n",
       "      <th>gammatr</th>\n",
       "      <th>q1</th>\n",
       "      <th>dq1</th>\n",
       "      <th>betxmax</th>\n",
       "      <th>dxmax</th>\n",
       "      <th>dxrms</th>\n",
       "      <th>xcomax</th>\n",
       "      <th>...</th>\n",
       "      <th>ycorms</th>\n",
       "      <th>deltap</th>\n",
       "      <th>synch_1</th>\n",
       "      <th>synch_2</th>\n",
       "      <th>synch_3</th>\n",
       "      <th>synch_4</th>\n",
       "      <th>synch_5</th>\n",
       "      <th>synch_6</th>\n",
       "      <th>synch_8</th>\n",
       "      <th>nflips</th>\n",
       "    </tr>\n",
       "  </thead>\n",
       "  <tbody>\n",
       "    <tr>\n",
       "      <th>#e</th>\n",
       "      <td>100.0</td>\n",
       "      <td>-0.0</td>\n",
       "      <td>0.0</td>\n",
       "      <td>0.0</td>\n",
       "      <td>0.038533</td>\n",
       "      <td>-0.043847</td>\n",
       "      <td>463.623288</td>\n",
       "      <td>0.0</td>\n",
       "      <td>0.0</td>\n",
       "      <td>0.0</td>\n",
       "      <td>...</td>\n",
       "      <td>0.0</td>\n",
       "      <td>0.0</td>\n",
       "      <td>0.0</td>\n",
       "      <td>0.0</td>\n",
       "      <td>0.0</td>\n",
       "      <td>0.0</td>\n",
       "      <td>0.0</td>\n",
       "      <td>0.0</td>\n",
       "      <td>0.0</td>\n",
       "      <td>0.0</td>\n",
       "    </tr>\n",
       "  </tbody>\n",
       "</table>\n",
       "<p>1 rows × 27 columns</p>\n",
       "</div>"
      ],
      "text/plain": [
       "    length  orbit5  alfa  gammatr        q1       dq1     betxmax  dxmax  \\\n",
       "#e   100.0    -0.0   0.0      0.0  0.038533 -0.043847  463.623288    0.0   \n",
       "\n",
       "    dxrms  xcomax  ...  ycorms  deltap  synch_1  synch_2  synch_3  synch_4  \\\n",
       "#e    0.0     0.0  ...     0.0     0.0      0.0      0.0      0.0      0.0   \n",
       "\n",
       "    synch_5  synch_6  synch_8  nflips  \n",
       "#e      0.0      0.0      0.0     0.0  \n",
       "\n",
       "[1 rows x 27 columns]"
      ]
     },
     "execution_count": 9,
     "metadata": {},
     "output_type": "execute_result"
    }
   ],
   "source": [
    "#saving the summ table in myDF_summ\n",
    "myDF_summ=madx.table.summ.dframe()\n",
    "myDF_summ"
   ]
  },
  {
   "cell_type": "markdown",
   "id": "09ec7bb5-9c8e-40ab-a474-c62f31a70026",
   "metadata": {},
   "source": [
    "#### Extracting data from the SUMM and TWISS tables"
   ]
  },
  {
   "cell_type": "code",
   "execution_count": 10,
   "id": "f0b91e2d-5d99-47d8-9f36-5d3b9b0846fa",
   "metadata": {},
   "outputs": [
    {
     "name": "stdout",
     "output_type": "stream",
     "text": [
      "Horizontal betamax: 463.62328830783895\n",
      "Vertical betamax: 463.6232883078387\n"
     ]
    }
   ],
   "source": [
    "# From the SUMM table\n",
    "print(\"Horizontal betamax: %s\" %myDF_summ[\"betxmax\"].values[0])\n",
    "print(\"Vertical betamax: %s\" %myDF_summ[\"betymax\"].values[0])"
   ]
  },
  {
   "cell_type": "code",
   "execution_count": 11,
   "id": "1b4af8d0-df8f-4ef5-879a-1ca391263522",
   "metadata": {},
   "outputs": [
    {
     "name": "stdout",
     "output_type": "stream",
     "text": [
      "Horizontal betamax\n",
      "463.62328830783895\n",
      "Vertical betamax\n",
      "463.6232883078387\n"
     ]
    }
   ],
   "source": [
    "# From the TWISS table\n",
    "betxmax=max(myDF[\"betx\"])\n",
    "print(\"Horizontal betamax\")\n",
    "print(betxmax)\n",
    "\n",
    "betymax=max(myDF[\"bety\"])\n",
    "print(\"Vertical betamax\")\n",
    "print(betymax)"
   ]
  },
  {
   "cell_type": "markdown",
   "id": "2ccae72c",
   "metadata": {},
   "source": [
    "#### Plotting results"
   ]
  },
  {
   "cell_type": "code",
   "execution_count": 12,
   "id": "b9ea22fc",
   "metadata": {},
   "outputs": [
    {
     "data": {
      "image/png": "[encoded data removed]",
      "text/plain": [
       "<Figure size 936x576 with 1 Axes>"
      ]
     },
     "metadata": {
      "needs_background": "light"
     },
     "output_type": "display_data"
    }
   ],
   "source": [
    "fig = plt.figure(figsize=(13,8))\n",
    "plt.rcParams.update({'font.size': 20})\n",
    "plt.plot(myDF['s'],myDF['betx'],'.-b',label='$\\\\beta_x$')\n",
    "plt.plot(myDF['s'],myDF['bety'],'.-r',label='$\\\\beta_y$')\n",
    "plt.xlabel('s [m]')\n",
    "plt.ylabel('[m]')\n",
    "plt.legend()\n",
    "plt.grid()"
   ]
  },
  {
   "cell_type": "markdown",
   "id": "6e584ead",
   "metadata": {},
   "source": [
    "#### **If you found $\\beta_{max}$= 463.6 m you succeded!**"
   ]
  },
  {
   "cell_type": "markdown",
   "id": "86b65bb2",
   "metadata": {},
   "source": [
    "#### 3. Using the plot you obtained can you estimate the phase advance of the cell. Compare with the tunes obtained with the TWISS. "
   ]
  },
  {
   "cell_type": "markdown",
   "id": "139ab614",
   "metadata": {},
   "source": [
    "#### For the phase advance one can consider the definition\n",
    "\n",
    "\\begin{equation}\n",
    "\\mu=\\int\\frac{1}{\\beta(s)}ds.\n",
    "\\end{equation}\n",
    "\n",
    "#### Remember the phase advance in MAD-X is given in units of [2$\\pi$]."
   ]
  },
  {
   "cell_type": "markdown",
   "id": "ec0e97c1-d4b1-478f-b897-5eb0d954166a",
   "metadata": {},
   "source": [
    "#### A very basic approximation considering a constant beta:"
   ]
  },
  {
   "cell_type": "code",
   "execution_count": 13,
   "id": "f839a0b5",
   "metadata": {},
   "outputs": [
    {
     "data": {
      "text/plain": [
       "0.03816665301963917"
      ]
     },
     "execution_count": 13,
     "metadata": {},
     "output_type": "execute_result"
    }
   ],
   "source": [
    "# The mean beta value is approximately 417 m\n",
    "1/417.*100/2/np.pi"
   ]
  },
  {
   "cell_type": "markdown",
   "id": "87238b4a-07cd-423c-acf5-6a2b96cfcbe9",
   "metadata": {},
   "source": [
    "#### Computing the integral using the np.trapz method that integrates along a given axis using the composite trapezoidal rule."
   ]
  },
  {
   "cell_type": "code",
   "execution_count": 14,
   "id": "397d7f8a",
   "metadata": {},
   "outputs": [
    {
     "data": {
      "text/plain": [
       "0.038571104937361426"
      ]
     },
     "execution_count": 14,
     "metadata": {},
     "output_type": "execute_result"
    }
   ],
   "source": [
    "np.trapz(1/myDF['betx'],myDF['s'])/2/np.pi"
   ]
  },
  {
   "cell_type": "markdown",
   "id": "8342be91-eb5c-45e5-ab95-1610e9ccfec1",
   "metadata": {},
   "source": [
    "#### Correct values from MAD-X TWISS commands"
   ]
  },
  {
   "cell_type": "code",
   "execution_count": 15,
   "id": "cbf7bb1e",
   "metadata": {},
   "outputs": [
    {
     "data": {
      "text/plain": [
       "0.03853349450910022"
      ]
     },
     "execution_count": 15,
     "metadata": {},
     "output_type": "execute_result"
    }
   ],
   "source": [
    "myDF.iloc[-1]['mux']"
   ]
  },
  {
   "cell_type": "code",
   "execution_count": 16,
   "id": "c2c48a38",
   "metadata": {},
   "outputs": [
    {
     "data": {
      "text/plain": [
       "13.87205802327608"
      ]
     },
     "execution_count": 16,
     "metadata": {},
     "output_type": "execute_result"
    }
   ],
   "source": [
    "# Phase Advance in units of degrees\n",
    "myDF.iloc[-1]['mux']*2*180"
   ]
  },
  {
   "cell_type": "markdown",
   "id": "537588e6",
   "metadata": {},
   "source": [
    "#### 4. Try with $E_{tot}$ = 0.7 GeV: what is the MAD-X error message? Try with f = 20 m: what is the MAD-X error message? "
   ]
  },
  {
   "cell_type": "markdown",
   "id": "cdc0dd5f-e427-4a8f-b91e-796f2256614d",
   "metadata": {},
   "source": [
    "#### Note that the error messages will appear in the terminal from which you launched the JupyterLab"
   ]
  },
  {
   "cell_type": "code",
   "execution_count": 17,
   "id": "9f88f86d-394b-4b04-b4b5-8a9f553ac1dd",
   "metadata": {},
   "outputs": [
    {
     "ename": "RuntimeError",
     "evalue": "MAD-X has stopped working!",
     "output_type": "error",
     "traceback": [
      "\u001b[0;31m---------------------------------------------------------------------------\u001b[0m",
      "\u001b[0;31mRuntimeError\u001b[0m                              Traceback (most recent call last)",
      "\u001b[0;32m<ipython-input-17-37c2e3d90adb>\u001b[0m in \u001b[0;36m<module>\u001b[0;34m\u001b[0m\n\u001b[1;32m      2\u001b[0m \u001b[0mbeam\u001b[0m\u001b[0;34m,\u001b[0m \u001b[0mparticle\u001b[0m\u001b[0;34m=\u001b[0m\u001b[0mproton\u001b[0m\u001b[0;34m,\u001b[0m \u001b[0menergy\u001b[0m\u001b[0;34m=\u001b[0m\u001b[0;36m0.7\u001b[0m\u001b[0;34m;\u001b[0m\u001b[0;34m\u001b[0m\u001b[0;34m\u001b[0m\u001b[0m\n\u001b[1;32m      3\u001b[0m '''\n\u001b[0;32m----> 4\u001b[0;31m \u001b[0mmadx\u001b[0m\u001b[0;34m.\u001b[0m\u001b[0minput\u001b[0m\u001b[0;34m(\u001b[0m\u001b[0mmyString\u001b[0m\u001b[0;34m)\u001b[0m\u001b[0;34m;\u001b[0m\u001b[0;34m\u001b[0m\u001b[0;34m\u001b[0m\u001b[0m\n\u001b[0m",
      "\u001b[0;32m~/opt/anaconda3/lib/python3.8/site-packages/cpymad/madx.py\u001b[0m in \u001b[0;36minput\u001b[0;34m(self, text)\u001b[0m\n\u001b[1;32m    278\u001b[0m                 \u001b[0;32mreturn\u001b[0m \u001b[0mself\u001b[0m\u001b[0;34m.\u001b[0m\u001b[0m_libmadx\u001b[0m\u001b[0;34m.\u001b[0m\u001b[0minput\u001b[0m\u001b[0;34m(\u001b[0m\u001b[0mtext\u001b[0m\u001b[0;34m)\u001b[0m\u001b[0;34m\u001b[0m\u001b[0;34m\u001b[0m\u001b[0m\n\u001b[1;32m    279\u001b[0m         \u001b[0;32mexcept\u001b[0m \u001b[0m_rpc\u001b[0m\u001b[0;34m.\u001b[0m\u001b[0mRemoteProcessCrashed\u001b[0m\u001b[0;34m:\u001b[0m\u001b[0;34m\u001b[0m\u001b[0;34m\u001b[0m\u001b[0m\n\u001b[0;32m--> 280\u001b[0;31m             \u001b[0;32mraise\u001b[0m \u001b[0mRuntimeError\u001b[0m\u001b[0;34m(\u001b[0m\u001b[0;34m\"MAD-X has stopped working!\"\u001b[0m\u001b[0;34m)\u001b[0m \u001b[0;32mfrom\u001b[0m \u001b[0;32mNone\u001b[0m\u001b[0;34m\u001b[0m\u001b[0;34m\u001b[0m\u001b[0m\n\u001b[0m\u001b[1;32m    281\u001b[0m \u001b[0;34m\u001b[0m\u001b[0m\n\u001b[1;32m    282\u001b[0m     \u001b[0m__call__\u001b[0m \u001b[0;34m=\u001b[0m \u001b[0minput\u001b[0m\u001b[0;34m\u001b[0m\u001b[0;34m\u001b[0m\u001b[0m\n",
      "\u001b[0;31mRuntimeError\u001b[0m: MAD-X has stopped working!"
     ]
    }
   ],
   "source": [
    "myString='''\n",
    "beam, particle=proton, energy=0.7;\n",
    "'''\n",
    "madx.input(myString);"
   ]
  },
  {
   "cell_type": "markdown",
   "id": "24c98276-6fe0-4a06-8023-aaa96b756407",
   "metadata": {},
   "source": [
    "#### There is an error due to the fact that the total energy is lower than the proton rest mass."
   ]
  },
  {
   "cell_type": "markdown",
   "id": "041b7e71-b50e-4d0f-8e1d-7b3b4801394a",
   "metadata": {},
   "source": [
    "#### Because the MADX process was crashed in the previous cell we need to instanciate another MADX process."
   ]
  },
  {
   "cell_type": "code",
   "execution_count": null,
   "id": "bec3da56-7997-46d4-8c43-850c740067ef",
   "metadata": {},
   "outputs": [],
   "source": [
    "madx=Madx()"
   ]
  },
  {
   "cell_type": "code",
   "execution_count": null,
   "id": "dee6830a-f217-425b-ac5a-82c9dc54599d",
   "metadata": {},
   "outputs": [],
   "source": [
    "# Then we need to run the call command again to run the FODO input file.\n",
    "madx.call('Tutorial1_solution.madx')"
   ]
  },
  {
   "cell_type": "code",
   "execution_count": null,
   "id": "179de2cf-052f-4ed6-8848-7fa886231ae8",
   "metadata": {},
   "outputs": [],
   "source": [
    "# Finally we can send the commands to change the focal lenght and TWISS again.\n",
    "myString='''\n",
    "f=20;\n",
    "beam, particle=proton, energy=2;\n",
    "use,sequence=myCell;      \n",
    "twiss,sequence=myCell;\n",
    "'''\n",
    "madx.input(myString);"
   ]
  },
  {
   "cell_type": "markdown",
   "id": "1a9dc356",
   "metadata": {},
   "source": [
    "#### **INTERPRETATION**: The cell is unstable due to the fact that **the focal length is too short**. "
   ]
  },
  {
   "cell_type": "markdown",
   "id": "ae88647d-b3ac-4009-aeed-3af07e2db5ce",
   "metadata": {},
   "source": [
    "#### Please note the value of the cosmux and cosmuy. **REMEMBER** |Trace(M)|< 2; -1 <= cos $\\mu$ <= 1."
   ]
  },
  {
   "cell_type": "markdown",
   "id": "64998c77",
   "metadata": {},
   "source": [
    "# EXTRA\n",
    "\n",
    "# Adding markers\n",
    "\n",
    "#### This is an example to add markers in the sequence using macros.\n"
   ]
  },
  {
   "cell_type": "code",
   "execution_count": null,
   "id": "3b469d16",
   "metadata": {},
   "outputs": [],
   "source": [
    "madx=Madx()"
   ]
  },
  {
   "cell_type": "code",
   "execution_count": null,
   "id": "91dda547-6379-408f-b596-eb08567a15d2",
   "metadata": {},
   "outputs": [],
   "source": [
    "madx.call(\"Tutorial1_solution_adding_markers.madx\")"
   ]
  },
  {
   "cell_type": "code",
   "execution_count": null,
   "id": "bc355dc8",
   "metadata": {},
   "outputs": [],
   "source": [
    "# Saving the new data in myDF and showing only the first 5 rows where the first marker installed can be seen\n",
    "myDF=madx.table.twiss.dframe()\n",
    "myDF.head()"
   ]
  },
  {
   "cell_type": "markdown",
   "id": "06ab60ce-c81d-49bb-8c91-3d51f0997c49",
   "metadata": {},
   "source": [
    "#### If not specified, not all data available in the twiss table will be shown. In order to set this up, use the following commands: "
   ]
  },
  {
   "cell_type": "code",
   "execution_count": null,
   "id": "ab8a28ae-787e-4511-8edd-814b1c0c2255",
   "metadata": {
    "tags": []
   },
   "outputs": [],
   "source": [
    "pd.set_option('display.max_rows', None)\n",
    "pd.set_option('display.max_columns', None)"
   ]
  },
  {
   "cell_type": "code",
   "execution_count": null,
   "id": "db9760bb-ef0b-481d-b20f-33344d36bc6a",
   "metadata": {},
   "outputs": [],
   "source": [
    "# Saving the new data in myDF and showing only the first 5 rows where the first marker installed can be seen\n",
    "myDF=madx.table.twiss.dframe()\n",
    "myDF.head()"
   ]
  },
  {
   "cell_type": "markdown",
   "id": "e45a79ff-1b4c-4625-be14-1724cc7e6f38",
   "metadata": {},
   "source": [
    "#### Plotting the new data"
   ]
  },
  {
   "cell_type": "code",
   "execution_count": null,
   "id": "4e762dc8",
   "metadata": {},
   "outputs": [],
   "source": [
    "# PLot of the new data\n",
    "fig = plt.figure(figsize=(13,8))\n",
    "plt.rcParams.update({'font.size': 20})\n",
    "plt.plot(myDF['s'],myDF['betx'],'.-b',label='$\\\\beta_x$')\n",
    "plt.plot(myDF['s'],myDF['bety'],'.-r',label='$\\\\beta_y$')\n",
    "plt.xlabel('s [m]')\n",
    "plt.ylabel('[m]')\n",
    "plt.legend(loc='best')\n",
    "plt.grid()"
   ]
  },
  {
   "cell_type": "markdown",
   "id": "00c67981-7b3b-4db3-b1ed-830b83844ae2",
   "metadata": {},
   "source": [
    "# Plot adding the lattice layout on the top"
   ]
  },
  {
   "cell_type": "code",
   "execution_count": null,
   "id": "c9b0b729-2536-459c-acad-2a9652e783ea",
   "metadata": {},
   "outputs": [],
   "source": [
    "# Here we present an example of how to add a lattice on the top of the optics plot.\n",
    "# In addition to the beta-functions the dispersion is also plotted.\n",
    "# On the top the different elements are illustrated as well as the magnetic strength."
   ]
  },
  {
   "cell_type": "code",
   "execution_count": null,
   "id": "fc3bf62c-de8b-4644-9169-8ee0a8a18843",
   "metadata": {},
   "outputs": [],
   "source": [
    "import sys\n",
    "sys.path.append('../')\n",
    "import lib_JUAS2023 as lib\n",
    "lib.plot_layout(myDF)"
   ]
  },
  {
   "cell_type": "markdown",
   "id": "a253a960-6756-46e6-ab7e-ba6fe76c800e",
   "metadata": {},
   "source": [
    "# For reference..."
   ]
  },
  {
   "cell_type": "markdown",
   "id": "608a8f60-1a5a-48f5-a1f6-aaefe3c5a63d",
   "metadata": {},
   "source": [
    "---\n",
    "#### This is an example to get familiar with the use of the physical constants and the formatting of the output. Have a look on the difference."
   ]
  },
  {
   "cell_type": "code",
   "execution_count": null,
   "id": "c3d7397e-cdd5-4283-bdd8-47784ffbb327",
   "metadata": {},
   "outputs": [],
   "source": [
    "myString='''\n",
    "a=pi;\n",
    "value a; \n",
    "set, format=\"22.20e\";\n",
    "value a; \n",
    "'''\n",
    "madx.input(myString);"
   ]
  },
  {
   "cell_type": "markdown",
   "id": "a13ee804-2186-4d10-a615-024254bc3465",
   "metadata": {},
   "source": [
    "# \n",
    "This is an example to get familiar with if and deferred expression. Please note the after the block delimited with {...} the ; can be omitted. Pay attention to circular call!"
   ]
  },
  {
   "cell_type": "code",
   "execution_count": null,
   "id": "31ca5181-d993-4fe9-b7f9-6f5d6ea8d3bb",
   "metadata": {},
   "outputs": [],
   "source": [
    "myString='''\n",
    "if (1==1){\n",
    "option, echo=false, info=true;\n",
    "a=pi;\n",
    "b:=a;\n",
    "c=a;\n",
    "value a; \n",
    "value b;\n",
    "value c;\n",
    "a=CLIGHT*cos(a);\n",
    "value a;\n",
    "value b;\n",
    "value c;}\n",
    "! BEWARE of circular call!\n",
    "!a:=a+1;\n",
    "! When evaluating you will get a fatal error\n",
    "! value a; \n",
    "option, echo=true, info=true;\n",
    "'''\n",
    "madx.input(myString);"
   ]
  },
  {
   "cell_type": "markdown",
   "id": "9584731c-d9cb-430d-acd9-7f1132654e8b",
   "metadata": {},
   "source": [
    "# ---\n",
    "This is an example to get familiar with **while** and **macros** loops."
   ]
  },
  {
   "cell_type": "code",
   "execution_count": null,
   "id": "5b161ea9-8377-4435-ba7f-3c52e557ea72",
   "metadata": {},
   "outputs": [],
   "source": [
    "myString='''\n",
    "a(myvariable1,myvariable2): macro = {\n",
    "value, myvariable1;\n",
    "value, myvariable1*myvariable2;\n",
    "}\n",
    "\n",
    "N=1;\n",
    "while (N<10){\n",
    "exec, a(N,N);\n",
    "N=N+1;\n",
    "}\n",
    "'''\n",
    "madx.input(myString);"
   ]
  },
  {
   "cell_type": "markdown",
   "id": "c67377b0-61a8-44dc-a533-f1e10b72e27a",
   "metadata": {},
   "source": [
    "---\n",
    "### List of functions\n",
    "In MAD-X the following functions are available\n",
    "\n",
    "- SQRT(x) square root,\n",
    "- LOG(x) natural logarithm,\n",
    "- LOG10(x) logarithm base 10,\n",
    "- EXP(x) exponential,\n",
    "- SIN(x) trigonometric sine,\n",
    "- COS(x) trigonometric cosine,\n",
    "- TAN(x) trigonometric tangent,\n",
    "- ASIN(x) arc sine,\n",
    "- ACOS(x) arc cosine,\n",
    "- ATAN(x) arc tangent,\n",
    "- SINH(x) hyperbolic sine,\n",
    "- COSH(x) hyperbolic cosine,\n",
    "- TANH(x) hyperbolic tangent,\n",
    "- SINC(x) cardinal sine function,\n",
    "- ABS(x) absolute value,\n",
    "- ERF(x) Gauss error,\n",
    "- ERFC(x) complementary error,\n",
    "- FLOOR(x) floor, largest previous integer,\n",
    "- CEIL(x) ceiling, smallest next integer,\n",
    "- ROUND(x) round, closest integer,\n",
    "- FRAC(x) fractional part of number,\n",
    "- RANF() random number, uniformly distributed in [0,1],\n",
    "- GAUSS() random number, gaussian distribution with unit standard deviation,\n",
    "- TGAUSS(x) random number, gaussian distribution with unit standard deviation, truncated at x standard deviations;"
   ]
  },
  {
   "cell_type": "markdown",
   "id": "547700a9-c0a5-48bf-a0a1-d3704fc53392",
   "metadata": {},
   "source": [
    "---\n",
    "### List of physical constant\n",
    "\n",
    "| MAD-X name  | symbol  |  value |unit|\n",
    "|:-:|:-:|:-:|:-:|\n",
    "|PI| π |4 * atan(1)| 1|\n",
    "|TWOPI|2π| 2 * PI| 1|\n",
    "|DEGRAD| 180/π |180 / PI| deg/rad|\n",
    "|RADDEG| π/180 |PI / 180 |rad/deg|\n",
    "|E| e |exp(1) |1|\n",
    "|EMASS| me |0.510998928e−3| GeV|\n",
    "|PMASS| mp |0.938272046| GeV|\n",
    "|NMASS| u |0.931494061| GeV|\n",
    "|MUMASS| mµ| 0.1056583715 |GeV|\n",
    "|CLIGHT| c| 299792458| m/s|\n",
    "|QELECT| e| 1.602176565e−19| A.s|\n",
    "|HBAR| ¯h| 6.58211928e−25| MeV.s|\n",
    "|ERAD| re| 2.8179403267e−15| m|\n",
    "|PRAD| re(me/mp)| ERAD*EMASS/PMASS| m|"
   ]
  }
 ],
 "metadata": {
  "kernelspec": {
   "display_name": "Python 3",
   "language": "python",
   "name": "python3"
  },
  "language_info": {
   "codemirror_mode": {
    "name": "ipython",
    "version": 3
   },
   "file_extension": ".py",
   "mimetype": "text/x-python",
   "name": "python",
   "nbconvert_exporter": "python",
   "pygments_lexer": "ipython3",
   "version": "3.8.8"
  }
 },
 "nbformat": 4,
 "nbformat_minor": 5
}
